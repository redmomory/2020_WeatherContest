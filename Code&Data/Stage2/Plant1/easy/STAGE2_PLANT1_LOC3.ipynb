{
 "cells": [
  {
   "cell_type": "code",
   "execution_count": 21,
   "metadata": {},
   "outputs": [],
   "source": [
    "import numpy as np\n",
    "import pandas as pd\n",
    "import matplotlib.pyplot as plt\n",
    "from imblearn.ensemble import EasyEnsembleClassifier\n",
    "from sklearn.naive_bayes import GaussianNB\n",
    "from sklearn.model_selection import cross_val_score\n",
    "from sklearn.model_selection import cross_val_predict\n",
    "import matplotlib.pyplot as plt\n",
    "import seaborn as sns"
   ]
  },
  {
   "cell_type": "code",
   "execution_count": 22,
   "metadata": {},
   "outputs": [],
   "source": [
    "df_L = pd.read_csv('TrainData\\Plant1_Location3_No_Nan.csv');\n",
    "df_L_24 = pd.read_csv('TestData\\Test_P1_L3_24.csv');\n",
    "df_L_48 = pd.read_csv('TestData\\Test_P1_L3_48.csv');"
   ]
  },
  {
   "cell_type": "markdown",
   "metadata": {},
   "source": [
    "# Training"
   ]
  },
  {
   "cell_type": "code",
   "execution_count": 23,
   "metadata": {},
   "outputs": [],
   "source": [
    "y_train = df_L.loc[:,'cond'];\n",
    "df_L.drop('cond', axis='columns', inplace=True);\n",
    "df_L.drop('Year', axis='columns', inplace=True);\n",
    "df_L.drop('Month', axis='columns', inplace=True);\n",
    "df_L.drop('Day', axis='columns', inplace=True);\n",
    "df_L.drop('Hour', axis='columns', inplace=True);\n",
    "df_L.drop('Minute', axis='columns', inplace=True);\n",
    "x_train = df_L;"
   ]
  },
  {
   "cell_type": "code",
   "execution_count": 24,
   "metadata": {},
   "outputs": [
    {
     "data": {
      "text/html": [
       "<div>\n",
       "<style scoped>\n",
       "    .dataframe tbody tr th:only-of-type {\n",
       "        vertical-align: middle;\n",
       "    }\n",
       "\n",
       "    .dataframe tbody tr th {\n",
       "        vertical-align: top;\n",
       "    }\n",
       "\n",
       "    .dataframe thead th {\n",
       "        text-align: right;\n",
       "    }\n",
       "</style>\n",
       "<table border=\"1\" class=\"dataframe\">\n",
       "  <thead>\n",
       "    <tr style=\"text-align: right;\">\n",
       "      <th></th>\n",
       "      <th>tem_in</th>\n",
       "      <th>hum_in</th>\n",
       "      <th>tem_coil</th>\n",
       "      <th>tem_out</th>\n",
       "      <th>hum_out</th>\n",
       "    </tr>\n",
       "  </thead>\n",
       "  <tbody>\n",
       "    <tr>\n",
       "      <th>0</th>\n",
       "      <td>13.0</td>\n",
       "      <td>32.0</td>\n",
       "      <td>10.0</td>\n",
       "      <td>9.0</td>\n",
       "      <td>42.0</td>\n",
       "    </tr>\n",
       "    <tr>\n",
       "      <th>1</th>\n",
       "      <td>11.0</td>\n",
       "      <td>42.0</td>\n",
       "      <td>7.0</td>\n",
       "      <td>7.0</td>\n",
       "      <td>59.0</td>\n",
       "    </tr>\n",
       "    <tr>\n",
       "      <th>2</th>\n",
       "      <td>10.0</td>\n",
       "      <td>44.0</td>\n",
       "      <td>7.0</td>\n",
       "      <td>6.0</td>\n",
       "      <td>56.0</td>\n",
       "    </tr>\n",
       "    <tr>\n",
       "      <th>3</th>\n",
       "      <td>10.0</td>\n",
       "      <td>41.0</td>\n",
       "      <td>8.0</td>\n",
       "      <td>18.0</td>\n",
       "      <td>30.0</td>\n",
       "    </tr>\n",
       "    <tr>\n",
       "      <th>4</th>\n",
       "      <td>14.0</td>\n",
       "      <td>30.0</td>\n",
       "      <td>9.0</td>\n",
       "      <td>18.0</td>\n",
       "      <td>20.0</td>\n",
       "    </tr>\n",
       "  </tbody>\n",
       "</table>\n",
       "</div>"
      ],
      "text/plain": [
       "   tem_in  hum_in  tem_coil  tem_out  hum_out\n",
       "0    13.0    32.0      10.0      9.0     42.0\n",
       "1    11.0    42.0       7.0      7.0     59.0\n",
       "2    10.0    44.0       7.0      6.0     56.0\n",
       "3    10.0    41.0       8.0     18.0     30.0\n",
       "4    14.0    30.0       9.0     18.0     20.0"
      ]
     },
     "execution_count": 24,
     "metadata": {},
     "output_type": "execute_result"
    }
   ],
   "source": [
    "df_L.head()"
   ]
  },
  {
   "cell_type": "code",
   "execution_count": 25,
   "metadata": {},
   "outputs": [
    {
     "name": "stdout",
     "output_type": "stream",
     "text": [
      "58604\n"
     ]
    }
   ],
   "source": [
    "print(y_train.size)"
   ]
  },
  {
   "cell_type": "code",
   "execution_count": 26,
   "metadata": {},
   "outputs": [],
   "source": [
    "class proba_eec(EasyEnsembleClassifier):\n",
    "    def predict(self, X):\n",
    "        return EasyEnsembleClassifier.predict_proba(self, X)\n",
    "\n",
    "y_pred = cross_val_predict(proba_eec(), x_train, y_train, cv=5);"
   ]
  },
  {
   "cell_type": "code",
   "execution_count": 27,
   "metadata": {},
   "outputs": [
    {
     "name": "stdout",
     "output_type": "stream",
     "text": [
      "58604\n"
     ]
    }
   ],
   "source": [
    "y_pred = np.delete(y_pred,(0), axis=1)\n",
    "print(y_pred.size)"
   ]
  },
  {
   "cell_type": "code",
   "execution_count": 28,
   "metadata": {},
   "outputs": [
    {
     "data": {
      "image/png": "[encoded data removed]",
      "text/plain": [
       "<Figure size 432x288 with 1 Axes>"
      ]
     },
     "metadata": {
      "needs_background": "light"
     },
     "output_type": "display_data"
    },
    {
     "data": {
      "text/plain": [
       "<Figure size 432x288 with 0 Axes>"
      ]
     },
     "metadata": {},
     "output_type": "display_data"
    }
   ],
   "source": [
    "plt.hist(y_pred, bins=15)\n",
    "plt.show()\n",
    "plt.clf()"
   ]
  },
  {
   "cell_type": "code",
   "execution_count": 29,
   "metadata": {},
   "outputs": [],
   "source": [
    "logical = np.zeros((y_pred.size, 1), dtype=bool)\n",
    "for i in range(y_pred.size):\n",
    "    if(y_pred[i] > 0.35):\n",
    "        if(y_pred[i] < 0.5):\n",
    "            logical[i] = 1;"
   ]
  },
  {
   "cell_type": "code",
   "execution_count": 30,
   "metadata": {},
   "outputs": [
    {
     "name": "stdout",
     "output_type": "stream",
     "text": [
      "58604\n",
      "(19140, 1)\n"
     ]
    }
   ],
   "source": [
    "print(logical.size)\n",
    "index = np.argwhere(logical ==1)\n",
    "index = np.delete(index, (1), axis= 1)\n",
    "print(index.shape)"
   ]
  },
  {
   "cell_type": "code",
   "execution_count": 31,
   "metadata": {},
   "outputs": [],
   "source": [
    "df_L = pd.read_csv('TrainData\\Plant1_Location3_No_Nan.csv');\n",
    "for i in range(index.size):\n",
    "    num = index[i] - i;\n",
    "    df_L.drop(df_L.index[num], inplace=True)"
   ]
  },
  {
   "cell_type": "code",
   "execution_count": 32,
   "metadata": {},
   "outputs": [],
   "source": [
    "y_train = df_L.loc[:,'cond'];\n",
    "df_L.drop('cond', axis='columns', inplace=True);\n",
    "df_L.drop('Year', axis='columns', inplace=True);\n",
    "df_L.drop('Month', axis='columns', inplace=True);\n",
    "df_L.drop('Day', axis='columns', inplace=True);\n",
    "df_L.drop('Hour', axis='columns', inplace=True);\n",
    "df_L.drop('Minute', axis='columns', inplace=True);\n",
    "x_train = df_L;"
   ]
  },
  {
   "cell_type": "code",
   "execution_count": 33,
   "metadata": {},
   "outputs": [
    {
     "data": {
      "text/html": [
       "<div>\n",
       "<style scoped>\n",
       "    .dataframe tbody tr th:only-of-type {\n",
       "        vertical-align: middle;\n",
       "    }\n",
       "\n",
       "    .dataframe tbody tr th {\n",
       "        vertical-align: top;\n",
       "    }\n",
       "\n",
       "    .dataframe thead th {\n",
       "        text-align: right;\n",
       "    }\n",
       "</style>\n",
       "<table border=\"1\" class=\"dataframe\">\n",
       "  <thead>\n",
       "    <tr style=\"text-align: right;\">\n",
       "      <th></th>\n",
       "      <th>tem_in</th>\n",
       "      <th>hum_in</th>\n",
       "      <th>tem_coil</th>\n",
       "      <th>tem_out</th>\n",
       "      <th>hum_out</th>\n",
       "    </tr>\n",
       "  </thead>\n",
       "  <tbody>\n",
       "    <tr>\n",
       "      <th>0</th>\n",
       "      <td>13.0</td>\n",
       "      <td>32.0</td>\n",
       "      <td>10.0</td>\n",
       "      <td>9.0</td>\n",
       "      <td>42.0</td>\n",
       "    </tr>\n",
       "    <tr>\n",
       "      <th>1</th>\n",
       "      <td>11.0</td>\n",
       "      <td>42.0</td>\n",
       "      <td>7.0</td>\n",
       "      <td>7.0</td>\n",
       "      <td>59.0</td>\n",
       "    </tr>\n",
       "    <tr>\n",
       "      <th>2</th>\n",
       "      <td>10.0</td>\n",
       "      <td>44.0</td>\n",
       "      <td>7.0</td>\n",
       "      <td>6.0</td>\n",
       "      <td>56.0</td>\n",
       "    </tr>\n",
       "    <tr>\n",
       "      <th>3</th>\n",
       "      <td>10.0</td>\n",
       "      <td>41.0</td>\n",
       "      <td>8.0</td>\n",
       "      <td>18.0</td>\n",
       "      <td>30.0</td>\n",
       "    </tr>\n",
       "    <tr>\n",
       "      <th>4</th>\n",
       "      <td>14.0</td>\n",
       "      <td>30.0</td>\n",
       "      <td>9.0</td>\n",
       "      <td>18.0</td>\n",
       "      <td>20.0</td>\n",
       "    </tr>\n",
       "  </tbody>\n",
       "</table>\n",
       "</div>"
      ],
      "text/plain": [
       "   tem_in  hum_in  tem_coil  tem_out  hum_out\n",
       "0    13.0    32.0      10.0      9.0     42.0\n",
       "1    11.0    42.0       7.0      7.0     59.0\n",
       "2    10.0    44.0       7.0      6.0     56.0\n",
       "3    10.0    41.0       8.0     18.0     30.0\n",
       "4    14.0    30.0       9.0     18.0     20.0"
      ]
     },
     "execution_count": 33,
     "metadata": {},
     "output_type": "execute_result"
    }
   ],
   "source": [
    "df_L.head()"
   ]
  },
  {
   "cell_type": "code",
   "execution_count": 34,
   "metadata": {},
   "outputs": [],
   "source": [
    "eec = EasyEnsembleClassifier()\n",
    "eec.fit(x_train,y_train.ravel());"
   ]
  },
  {
   "cell_type": "markdown",
   "metadata": {},
   "source": [
    "# Predict"
   ]
  },
  {
   "cell_type": "code",
   "execution_count": 35,
   "metadata": {},
   "outputs": [],
   "source": [
    "df_L_24.drop('Year', axis='columns', inplace=True);\n",
    "df_L_24.drop('Month', axis='columns', inplace=True);\n",
    "df_L_24.drop('Day', axis='columns', inplace=True);\n",
    "df_L_24.drop('Hour', axis='columns', inplace=True);\n",
    "df_L_24.drop('Minute', axis='columns', inplace=True);\n",
    "\n",
    "df_L_48.drop('Year', axis='columns', inplace=True);\n",
    "df_L_48.drop('Month', axis='columns', inplace=True);\n",
    "df_L_48.drop('Day', axis='columns', inplace=True);\n",
    "df_L_48.drop('Hour', axis='columns', inplace=True);\n",
    "df_L_48.drop('Minute', axis='columns', inplace=True);"
   ]
  },
  {
   "cell_type": "code",
   "execution_count": 36,
   "metadata": {},
   "outputs": [],
   "source": [
    "P_24= eec.predict(df_L_24);\n",
    "PP_24 = eec.predict_proba(df_L_24);\n",
    "P_48= eec.predict(df_L_48);\n",
    "PP_48 = eec.predict_proba(df_L_48);\n",
    "PP_24 = np.delete(PP_24,(0), axis=1)\n",
    "PP_48 = np.delete(PP_48,(0), axis=1)"
   ]
  },
  {
   "cell_type": "markdown",
   "metadata": {},
   "source": [
    "# Save"
   ]
  },
  {
   "cell_type": "code",
   "execution_count": 37,
   "metadata": {},
   "outputs": [],
   "source": [
    "df_T = pd.read_csv('TestData\\Time_P1_L3_Data.csv');\n",
    "\n",
    "df_T.drop('tem_in', axis='columns', inplace=True);\n",
    "df_T.drop('tem_coil', axis='columns', inplace=True);\n",
    "df_T.drop('tem_out', axis='columns', inplace=True);\n",
    "df_T.drop('hum_in', axis='columns', inplace=True);\n",
    "df_T.drop('hum_out', axis='columns', inplace=True);"
   ]
  },
  {
   "cell_type": "code",
   "execution_count": 38,
   "metadata": {},
   "outputs": [
    {
     "data": {
      "text/html": [
       "<div>\n",
       "<style scoped>\n",
       "    .dataframe tbody tr th:only-of-type {\n",
       "        vertical-align: middle;\n",
       "    }\n",
       "\n",
       "    .dataframe tbody tr th {\n",
       "        vertical-align: top;\n",
       "    }\n",
       "\n",
       "    .dataframe thead th {\n",
       "        text-align: right;\n",
       "    }\n",
       "</style>\n",
       "<table border=\"1\" class=\"dataframe\">\n",
       "  <thead>\n",
       "    <tr style=\"text-align: right;\">\n",
       "      <th></th>\n",
       "      <th>Year</th>\n",
       "      <th>Month</th>\n",
       "      <th>Day</th>\n",
       "      <th>Hour</th>\n",
       "      <th>Minute</th>\n",
       "    </tr>\n",
       "  </thead>\n",
       "  <tbody>\n",
       "    <tr>\n",
       "      <th>0</th>\n",
       "      <td>2019</td>\n",
       "      <td>4</td>\n",
       "      <td>3</td>\n",
       "      <td>12</td>\n",
       "      <td>30</td>\n",
       "    </tr>\n",
       "    <tr>\n",
       "      <th>1</th>\n",
       "      <td>2019</td>\n",
       "      <td>4</td>\n",
       "      <td>5</td>\n",
       "      <td>2</td>\n",
       "      <td>30</td>\n",
       "    </tr>\n",
       "    <tr>\n",
       "      <th>2</th>\n",
       "      <td>2019</td>\n",
       "      <td>4</td>\n",
       "      <td>5</td>\n",
       "      <td>8</td>\n",
       "      <td>0</td>\n",
       "    </tr>\n",
       "    <tr>\n",
       "      <th>3</th>\n",
       "      <td>2019</td>\n",
       "      <td>4</td>\n",
       "      <td>5</td>\n",
       "      <td>15</td>\n",
       "      <td>30</td>\n",
       "    </tr>\n",
       "    <tr>\n",
       "      <th>4</th>\n",
       "      <td>2019</td>\n",
       "      <td>4</td>\n",
       "      <td>6</td>\n",
       "      <td>6</td>\n",
       "      <td>30</td>\n",
       "    </tr>\n",
       "  </tbody>\n",
       "</table>\n",
       "</div>"
      ],
      "text/plain": [
       "   Year  Month  Day  Hour  Minute\n",
       "0  2019      4    3    12      30\n",
       "1  2019      4    5     2      30\n",
       "2  2019      4    5     8       0\n",
       "3  2019      4    5    15      30\n",
       "4  2019      4    6     6      30"
      ]
     },
     "execution_count": 38,
     "metadata": {},
     "output_type": "execute_result"
    }
   ],
   "source": [
    "df_T.head()"
   ]
  },
  {
   "cell_type": "code",
   "execution_count": 39,
   "metadata": {},
   "outputs": [],
   "source": [
    "df_T['24H'] = P_24;\n",
    "df_T['24H_P'] = PP_24;\n",
    "df_T['48H'] = P_48;\n",
    "df_T['48H_P'] = PP_48;"
   ]
  },
  {
   "cell_type": "code",
   "execution_count": 40,
   "metadata": {},
   "outputs": [],
   "source": [
    "df_T.to_csv('Result_P1_L3.csv',index = False) "
   ]
  },
  {
   "cell_type": "code",
   "execution_count": null,
   "metadata": {},
   "outputs": [],
   "source": []
  }
 ],
 "metadata": {
  "kernelspec": {
   "display_name": "Python 3",
   "language": "python",
   "name": "python3"
  },
  "language_info": {
   "codemirror_mode": {
    "name": "ipython",
    "version": 3
   },
   "file_extension": ".py",
   "mimetype": "text/x-python",
   "name": "python",
   "nbconvert_exporter": "python",
   "pygments_lexer": "ipython3",
   "version": "3.7.6"
  }
 },
 "nbformat": 4,
 "nbformat_minor": 4
}
