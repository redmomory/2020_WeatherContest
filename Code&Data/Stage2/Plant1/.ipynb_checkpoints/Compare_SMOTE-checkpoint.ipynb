{
 "cells": [
  {
   "cell_type": "code",
   "execution_count": 31,
   "metadata": {},
   "outputs": [],
   "source": [
    "import numpy as np\n",
    "import pandas as pd\n",
    "import matplotlib.pyplot as plt\n",
    "from sklearn.metrics import accuracy_score \n",
    "from sklearn.model_selection import cross_val_score\n",
    "from sklearn.naive_bayes import GaussianNB\n",
    "from sklearn.neighbors import KNeighborsClassifier\n",
    "from sklearn.ensemble import RandomForestClassifier\n",
    "from sklearn.linear_model import LogisticRegression\n",
    "from xgboost import XGBClassifier\n",
    "from sklearn.model_selection import cross_val_predict\n",
    "from sklearn.metrics import confusion_matrix"
   ]
  },
  {
   "cell_type": "code",
   "execution_count": 32,
   "metadata": {},
   "outputs": [],
   "source": [
    "df_L = pd.read_csv('TrainData\\Plant1_Location1_No_Nan.csv');\n",
    "y_train = df_L.loc[:,'cond'];\n",
    "df_L.drop('cond', axis='columns', inplace=True);\n",
    "df_L.drop('Year', axis='columns', inplace=True);\n",
    "df_L.drop('Day', axis='columns', inplace=True);\n",
    "x_train = df_L.to_numpy()"
   ]
  },
  {
   "cell_type": "code",
   "execution_count": 3,
   "metadata": {},
   "outputs": [
    {
     "name": "stderr",
     "output_type": "stream",
     "text": [
      "Using TensorFlow backend.\n",
      "C:\\Users\\r___e\\anaconda3\\lib\\site-packages\\tensorflow\\python\\framework\\dtypes.py:516: FutureWarning: Passing (type, 1) or '1type' as a synonym of type is deprecated; in a future version of numpy, it will be understood as (type, (1,)) / '(1,)type'.\n",
      "  _np_qint8 = np.dtype([(\"qint8\", np.int8, 1)])\n",
      "C:\\Users\\r___e\\anaconda3\\lib\\site-packages\\tensorflow\\python\\framework\\dtypes.py:517: FutureWarning: Passing (type, 1) or '1type' as a synonym of type is deprecated; in a future version of numpy, it will be understood as (type, (1,)) / '(1,)type'.\n",
      "  _np_quint8 = np.dtype([(\"quint8\", np.uint8, 1)])\n",
      "C:\\Users\\r___e\\anaconda3\\lib\\site-packages\\tensorflow\\python\\framework\\dtypes.py:518: FutureWarning: Passing (type, 1) or '1type' as a synonym of type is deprecated; in a future version of numpy, it will be understood as (type, (1,)) / '(1,)type'.\n",
      "  _np_qint16 = np.dtype([(\"qint16\", np.int16, 1)])\n",
      "C:\\Users\\r___e\\anaconda3\\lib\\site-packages\\tensorflow\\python\\framework\\dtypes.py:519: FutureWarning: Passing (type, 1) or '1type' as a synonym of type is deprecated; in a future version of numpy, it will be understood as (type, (1,)) / '(1,)type'.\n",
      "  _np_quint16 = np.dtype([(\"quint16\", np.uint16, 1)])\n",
      "C:\\Users\\r___e\\anaconda3\\lib\\site-packages\\tensorflow\\python\\framework\\dtypes.py:520: FutureWarning: Passing (type, 1) or '1type' as a synonym of type is deprecated; in a future version of numpy, it will be understood as (type, (1,)) / '(1,)type'.\n",
      "  _np_qint32 = np.dtype([(\"qint32\", np.int32, 1)])\n",
      "C:\\Users\\r___e\\anaconda3\\lib\\site-packages\\tensorflow\\python\\framework\\dtypes.py:525: FutureWarning: Passing (type, 1) or '1type' as a synonym of type is deprecated; in a future version of numpy, it will be understood as (type, (1,)) / '(1,)type'.\n",
      "  np_resource = np.dtype([(\"resource\", np.ubyte, 1)])\n",
      "C:\\Users\\r___e\\anaconda3\\lib\\site-packages\\tensorboard\\compat\\tensorflow_stub\\dtypes.py:541: FutureWarning: Passing (type, 1) or '1type' as a synonym of type is deprecated; in a future version of numpy, it will be understood as (type, (1,)) / '(1,)type'.\n",
      "  _np_qint8 = np.dtype([(\"qint8\", np.int8, 1)])\n",
      "C:\\Users\\r___e\\anaconda3\\lib\\site-packages\\tensorboard\\compat\\tensorflow_stub\\dtypes.py:542: FutureWarning: Passing (type, 1) or '1type' as a synonym of type is deprecated; in a future version of numpy, it will be understood as (type, (1,)) / '(1,)type'.\n",
      "  _np_quint8 = np.dtype([(\"quint8\", np.uint8, 1)])\n",
      "C:\\Users\\r___e\\anaconda3\\lib\\site-packages\\tensorboard\\compat\\tensorflow_stub\\dtypes.py:543: FutureWarning: Passing (type, 1) or '1type' as a synonym of type is deprecated; in a future version of numpy, it will be understood as (type, (1,)) / '(1,)type'.\n",
      "  _np_qint16 = np.dtype([(\"qint16\", np.int16, 1)])\n",
      "C:\\Users\\r___e\\anaconda3\\lib\\site-packages\\tensorboard\\compat\\tensorflow_stub\\dtypes.py:544: FutureWarning: Passing (type, 1) or '1type' as a synonym of type is deprecated; in a future version of numpy, it will be understood as (type, (1,)) / '(1,)type'.\n",
      "  _np_quint16 = np.dtype([(\"quint16\", np.uint16, 1)])\n",
      "C:\\Users\\r___e\\anaconda3\\lib\\site-packages\\tensorboard\\compat\\tensorflow_stub\\dtypes.py:545: FutureWarning: Passing (type, 1) or '1type' as a synonym of type is deprecated; in a future version of numpy, it will be understood as (type, (1,)) / '(1,)type'.\n",
      "  _np_qint32 = np.dtype([(\"qint32\", np.int32, 1)])\n",
      "C:\\Users\\r___e\\anaconda3\\lib\\site-packages\\tensorboard\\compat\\tensorflow_stub\\dtypes.py:550: FutureWarning: Passing (type, 1) or '1type' as a synonym of type is deprecated; in a future version of numpy, it will be understood as (type, (1,)) / '(1,)type'.\n",
      "  np_resource = np.dtype([(\"resource\", np.ubyte, 1)])\n"
     ]
    }
   ],
   "source": [
    "from imblearn.over_sampling import ADASYN\n",
    "X_sm, y_sm = ADASYN().fit_sample(x_train, y_train)"
   ]
  },
  {
   "cell_type": "code",
   "execution_count": 10,
   "metadata": {},
   "outputs": [
    {
     "data": {
      "text/html": [
       "<div>\n",
       "<style scoped>\n",
       "    .dataframe tbody tr th:only-of-type {\n",
       "        vertical-align: middle;\n",
       "    }\n",
       "\n",
       "    .dataframe tbody tr th {\n",
       "        vertical-align: top;\n",
       "    }\n",
       "\n",
       "    .dataframe thead th {\n",
       "        text-align: right;\n",
       "    }\n",
       "</style>\n",
       "<table border=\"1\" class=\"dataframe\">\n",
       "  <thead>\n",
       "    <tr style=\"text-align: right;\">\n",
       "      <th></th>\n",
       "      <th>Month</th>\n",
       "      <th>Hour</th>\n",
       "      <th>Minute</th>\n",
       "      <th>tem_in</th>\n",
       "      <th>hum_in</th>\n",
       "      <th>tem_coil</th>\n",
       "      <th>tem_out</th>\n",
       "      <th>hum_out</th>\n",
       "    </tr>\n",
       "  </thead>\n",
       "  <tbody>\n",
       "    <tr>\n",
       "      <th>0</th>\n",
       "      <td>4</td>\n",
       "      <td>0</td>\n",
       "      <td>0</td>\n",
       "      <td>16.0</td>\n",
       "      <td>24.0</td>\n",
       "      <td>11.0</td>\n",
       "      <td>9.0</td>\n",
       "      <td>42.0</td>\n",
       "    </tr>\n",
       "    <tr>\n",
       "      <th>1</th>\n",
       "      <td>4</td>\n",
       "      <td>3</td>\n",
       "      <td>0</td>\n",
       "      <td>14.0</td>\n",
       "      <td>28.0</td>\n",
       "      <td>10.0</td>\n",
       "      <td>7.0</td>\n",
       "      <td>59.0</td>\n",
       "    </tr>\n",
       "    <tr>\n",
       "      <th>2</th>\n",
       "      <td>4</td>\n",
       "      <td>6</td>\n",
       "      <td>0</td>\n",
       "      <td>13.0</td>\n",
       "      <td>33.0</td>\n",
       "      <td>10.0</td>\n",
       "      <td>6.0</td>\n",
       "      <td>56.0</td>\n",
       "    </tr>\n",
       "    <tr>\n",
       "      <th>3</th>\n",
       "      <td>4</td>\n",
       "      <td>9</td>\n",
       "      <td>0</td>\n",
       "      <td>13.0</td>\n",
       "      <td>33.0</td>\n",
       "      <td>10.0</td>\n",
       "      <td>18.0</td>\n",
       "      <td>30.0</td>\n",
       "    </tr>\n",
       "    <tr>\n",
       "      <th>4</th>\n",
       "      <td>4</td>\n",
       "      <td>12</td>\n",
       "      <td>0</td>\n",
       "      <td>16.0</td>\n",
       "      <td>28.0</td>\n",
       "      <td>10.0</td>\n",
       "      <td>18.0</td>\n",
       "      <td>20.0</td>\n",
       "    </tr>\n",
       "  </tbody>\n",
       "</table>\n",
       "</div>"
      ],
      "text/plain": [
       "   Month  Hour  Minute  tem_in  hum_in  tem_coil  tem_out  hum_out\n",
       "0      4     0       0    16.0    24.0      11.0      9.0     42.0\n",
       "1      4     3       0    14.0    28.0      10.0      7.0     59.0\n",
       "2      4     6       0    13.0    33.0      10.0      6.0     56.0\n",
       "3      4     9       0    13.0    33.0      10.0     18.0     30.0\n",
       "4      4    12       0    16.0    28.0      10.0     18.0     20.0"
      ]
     },
     "execution_count": 10,
     "metadata": {},
     "output_type": "execute_result"
    }
   ],
   "source": [
    "df_L.head()"
   ]
  },
  {
   "cell_type": "code",
   "execution_count": 29,
   "metadata": {},
   "outputs": [
    {
     "name": "stderr",
     "output_type": "stream",
     "text": [
      "C:\\Users\\r___e\\anaconda3\\lib\\site-packages\\scipy\\sparse\\lil.py:512: FutureWarning: future versions will not create a writeable array from broadcast_array. Set the writable flag explicitly to avoid this warning.\n",
      "  if not i.flags.writeable or i.dtype not in (np.int32, np.int64):\n",
      "C:\\Users\\r___e\\anaconda3\\lib\\site-packages\\scipy\\sparse\\lil.py:514: FutureWarning: future versions will not create a writeable array from broadcast_array. Set the writable flag explicitly to avoid this warning.\n",
      "  if not j.flags.writeable or j.dtype not in (np.int32, np.int64):\n",
      "C:\\Users\\r___e\\anaconda3\\lib\\site-packages\\scipy\\sparse\\lil.py:518: FutureWarning: future versions will not create a writeable array from broadcast_array. Set the writable flag explicitly to avoid this warning.\n",
      "  if not x.flags.writeable:\n"
     ]
    }
   ],
   "source": [
    "from imblearn.combine import SMOTETomek\n",
    "from imblearn.over_sampling import SMOTENC\n",
    "from imblearn.under_sampling import TomekLinks\n",
    "smt = SMOTETomek(sampling_strategy='auto', random_state=42, smote = SMOTENC(categorical_features=[0,1]), tomek = TomekLinks(sampling_strategy = 'all'));\n",
    "X_sm, y_sm = smt.fit_sample(x_train, y_train)\n"
   ]
  },
  {
   "cell_type": "code",
   "execution_count": 30,
   "metadata": {},
   "outputs": [
    {
     "name": "stdout",
     "output_type": "stream",
     "text": [
      "0.9996131787712192\n",
      "0.49970291146761736\n",
      "0.999915811873071\n",
      "0.49747729566094856\n"
     ]
    }
   ],
   "source": [
    "from xgboost import XGBClassifier\n",
    "\n",
    "xgb = XGBClassifier()\n",
    "scores = cross_val_score(xgb, X_sm,  y_sm, cv=2, scoring='roc_auc');\n",
    "y_pred = cross_val_predict(xgb, X_sm,  y_sm, cv=2);\n",
    "conf_mat = confusion_matrix( y_sm ,y_pred);\n",
    "print(scores.mean());\n",
    "print(conf_mat[0,1]/(conf_mat[0,1]+conf_mat[1,0]+conf_mat[0,1]));\n",
    "\n",
    "#RANDOM FOREST\n",
    "from sklearn.ensemble import RandomForestClassifier\n",
    "\n",
    "rfc_model = RandomForestClassifier(n_estimators = 100,random_state = 99)\n",
    "scores = cross_val_score(rfc_model, X_sm,  y_sm, cv=2, scoring='roc_auc');\n",
    "y_pred = cross_val_predict(rfc_model, X_sm, y_sm, cv=2);\n",
    "conf_mat = confusion_matrix( y_sm ,y_pred);\n",
    "print(scores.mean());\n",
    "print(conf_mat[0,1]/(conf_mat[0,1]+conf_mat[1,0]+conf_mat[0,1]));"
   ]
  },
  {
   "cell_type": "code",
   "execution_count": 31,
   "metadata": {},
   "outputs": [
    {
     "name": "stderr",
     "output_type": "stream",
     "text": [
      "C:\\Users\\r___e\\anaconda3\\lib\\site-packages\\scipy\\sparse\\lil.py:512: FutureWarning: future versions will not create a writeable array from broadcast_array. Set the writable flag explicitly to avoid this warning.\n",
      "  if not i.flags.writeable or i.dtype not in (np.int32, np.int64):\n",
      "C:\\Users\\r___e\\anaconda3\\lib\\site-packages\\scipy\\sparse\\lil.py:514: FutureWarning: future versions will not create a writeable array from broadcast_array. Set the writable flag explicitly to avoid this warning.\n",
      "  if not j.flags.writeable or j.dtype not in (np.int32, np.int64):\n",
      "C:\\Users\\r___e\\anaconda3\\lib\\site-packages\\scipy\\sparse\\lil.py:518: FutureWarning: future versions will not create a writeable array from broadcast_array. Set the writable flag explicitly to avoid this warning.\n",
      "  if not x.flags.writeable:\n"
     ]
    }
   ],
   "source": [
    "\n",
    "from imblearn.combine import SMOTEENN\n",
    "from imblearn.over_sampling import SMOTENC\n",
    "from imblearn.over_sampling import BorderlineSMOTE\n",
    "from imblearn.over_sampling import SVMSMOTE\n",
    "from imblearn.under_sampling import TomekLinks\n",
    "smt = SMOTEENN(sampling_strategy='auto', random_state=42, smote =  SMOTENC(categorical_features=[0,1]))\n",
    "X_sm, y_sm = smt.fit_sample(x_train, y_train)\n"
   ]
  },
  {
   "cell_type": "code",
   "execution_count": 34,
   "metadata": {},
   "outputs": [
    {
     "ename": "TypeError",
     "evalue": "cross_val_score() got an unexpected keyword argument 'categorical_features'",
     "output_type": "error",
     "traceback": [
      "\u001b[1;31m---------------------------------------------------------------------------\u001b[0m",
      "\u001b[1;31mTypeError\u001b[0m                                 Traceback (most recent call last)",
      "\u001b[1;32m<ipython-input-34-cb8032eb4dd4>\u001b[0m in \u001b[0;36m<module>\u001b[1;34m\u001b[0m\n\u001b[0;32m      3\u001b[0m \u001b[1;33m\u001b[0m\u001b[0m\n\u001b[0;32m      4\u001b[0m \u001b[0mrfc_model\u001b[0m \u001b[1;33m=\u001b[0m \u001b[0mRandomForestClassifier\u001b[0m\u001b[1;33m(\u001b[0m\u001b[0mn_estimators\u001b[0m \u001b[1;33m=\u001b[0m \u001b[1;36m100\u001b[0m\u001b[1;33m,\u001b[0m\u001b[0mrandom_state\u001b[0m \u001b[1;33m=\u001b[0m \u001b[1;36m99\u001b[0m\u001b[1;33m)\u001b[0m\u001b[1;33m\u001b[0m\u001b[1;33m\u001b[0m\u001b[0m\n\u001b[1;32m----> 5\u001b[1;33m \u001b[0mscores\u001b[0m \u001b[1;33m=\u001b[0m \u001b[0mcross_val_score\u001b[0m\u001b[1;33m(\u001b[0m\u001b[0mrfc_model\u001b[0m\u001b[1;33m,\u001b[0m \u001b[0mX_sm\u001b[0m\u001b[1;33m,\u001b[0m  \u001b[0my_sm\u001b[0m\u001b[1;33m,\u001b[0m \u001b[0mcv\u001b[0m\u001b[1;33m=\u001b[0m\u001b[1;36m2\u001b[0m\u001b[1;33m,\u001b[0m \u001b[0mscoring\u001b[0m\u001b[1;33m=\u001b[0m\u001b[1;34m'roc_auc'\u001b[0m\u001b[1;33m,\u001b[0m\u001b[0mcategorical_features\u001b[0m\u001b[1;33m=\u001b[0m\u001b[1;33m[\u001b[0m\u001b[1;36m0\u001b[0m\u001b[1;33m,\u001b[0m\u001b[1;36m1\u001b[0m\u001b[1;33m]\u001b[0m\u001b[1;33m)\u001b[0m\u001b[1;33m;\u001b[0m\u001b[1;33m\u001b[0m\u001b[1;33m\u001b[0m\u001b[0m\n\u001b[0m\u001b[0;32m      6\u001b[0m \u001b[0my_pred\u001b[0m \u001b[1;33m=\u001b[0m \u001b[0mcross_val_predict\u001b[0m\u001b[1;33m(\u001b[0m\u001b[0mrfc_model\u001b[0m\u001b[1;33m,\u001b[0m \u001b[0mX_sm\u001b[0m\u001b[1;33m,\u001b[0m \u001b[0my_sm\u001b[0m\u001b[1;33m,\u001b[0m \u001b[0mcv\u001b[0m\u001b[1;33m=\u001b[0m\u001b[1;36m2\u001b[0m\u001b[1;33m)\u001b[0m\u001b[1;33m;\u001b[0m\u001b[1;33m\u001b[0m\u001b[1;33m\u001b[0m\u001b[0m\n\u001b[0;32m      7\u001b[0m \u001b[0mconf_mat\u001b[0m \u001b[1;33m=\u001b[0m \u001b[0mconfusion_matrix\u001b[0m\u001b[1;33m(\u001b[0m \u001b[0my_sm\u001b[0m \u001b[1;33m,\u001b[0m\u001b[0my_pred\u001b[0m\u001b[1;33m)\u001b[0m\u001b[1;33m;\u001b[0m\u001b[1;33m\u001b[0m\u001b[1;33m\u001b[0m\u001b[0m\n",
      "\u001b[1;31mTypeError\u001b[0m: cross_val_score() got an unexpected keyword argument 'categorical_features'"
     ]
    }
   ],
   "source": [
    "from xgboost import XGBClassifier\n",
    "\n",
    "xgb = XGBClassifier()\n",
    "scores = cross_val_score(xgb, X_sm,  y_sm, cv=2, scoring='roc_auc');\n",
    "y_pred = cross_val_predict(xgb, X_sm,  y_sm, cv=2);\n",
    "conf_mat = confusion_matrix( y_sm ,y_pred);\n",
    "print(scores.mean());\n",
    "print(conf_mat[0,1]/(conf_mat[0,1]+conf_mat[1,0]+conf_mat[0,1]));\n",
    "\n",
    "#RANDOM FOREST\n",
    "from sklearn.ensemble import RandomForestClassifier\n",
    "\n",
    "rfc_model = RandomForestClassifier(n_estimators = 100,random_state = 99)\n",
    "scores = cross_val_score(rfc_model, X_sm,  y_sm, cv=2, scoring='roc_auc');\n",
    "y_pred = cross_val_predict(rfc_model, X_sm, y_sm, cv=2);\n",
    "conf_mat = confusion_matrix( y_sm ,y_pred);\n",
    "print(scores.mean());\n",
    "print(conf_mat[0,1]/(conf_mat[0,1]+conf_mat[1,0]+conf_mat[0,1]));"
   ]
  },
  {
   "cell_type": "code",
   "execution_count": 14,
   "metadata": {},
   "outputs": [],
   "source": [
    "df_L.drop('Month', axis='columns', inplace=True);\n",
    "df_L.drop('Hour', axis='columns', inplace=True);\n",
    "df_L.drop('Minute', axis='columns', inplace=True);\n",
    "x_train = df_L.to_numpy()"
   ]
  },
  {
   "cell_type": "code",
   "execution_count": 18,
   "metadata": {},
   "outputs": [
    {
     "name": "stderr",
     "output_type": "stream",
     "text": [
      "2020-06-18 19:31:36,465:INFO:ADASYN: Running sampling via ('ADASYN', \"{'n_neighbors': 5, 'd_th': 0.9, 'beta': 1.0, 'n_jobs': 1, 'random_state': None}\")\n"
     ]
    }
   ],
   "source": [
    "import smote_variants as sv\n",
    "\n",
    "oversampler= sv.ADASYN()\n",
    "X_sm, y_sm= oversampler.sample(x_train, y_train)"
   ]
  },
  {
   "cell_type": "code",
   "execution_count": 19,
   "metadata": {},
   "outputs": [
    {
     "name": "stdout",
     "output_type": "stream",
     "text": [
      "0.998924613159319\n",
      "0.4992401215805471\n",
      "0.9998780741178981\n",
      "0.4979020979020979\n"
     ]
    }
   ],
   "source": [
    "from xgboost import XGBClassifier\n",
    "\n",
    "xgb = XGBClassifier()\n",
    "scores = cross_val_score(xgb, X_sm,  y_sm, cv=2, scoring='roc_auc');\n",
    "y_pred = cross_val_predict(xgb, X_sm,  y_sm, cv=2);\n",
    "conf_mat = confusion_matrix( y_sm ,y_pred);\n",
    "print(scores.mean());\n",
    "print(conf_mat[0,1]/(conf_mat[0,1]+conf_mat[1,0]+conf_mat[0,1]));"
   ]
  },
  {
   "cell_type": "code",
   "execution_count": 20,
   "metadata": {},
   "outputs": [
    {
     "name": "stderr",
     "output_type": "stream",
     "text": [
      "2020-06-18 19:34:00,264:INFO:AHC: Running sampling via ('AHC', \"{'strategy': 'min', 'n_jobs': 1, 'random_state': None}\")\n"
     ]
    }
   ],
   "source": [
    "import smote_variants as sv\n",
    "\n",
    "oversampler= sv.AHC()\n",
    "X_sm, y_sm= oversampler.sample(x_train, y_train)"
   ]
  },
  {
   "cell_type": "code",
   "execution_count": 21,
   "metadata": {},
   "outputs": [
    {
     "name": "stdout",
     "output_type": "stream",
     "text": [
      "0.9992304509377736\n",
      "0.48115577889447236\n"
     ]
    }
   ],
   "source": [
    "from xgboost import XGBClassifier\n",
    "\n",
    "xgb = XGBClassifier()\n",
    "scores = cross_val_score(xgb, X_sm,  y_sm, cv=2, scoring='roc_auc');\n",
    "y_pred = cross_val_predict(xgb, X_sm,  y_sm, cv=2);\n",
    "conf_mat = confusion_matrix( y_sm ,y_pred);\n",
    "print(scores.mean());\n",
    "print(conf_mat[0,1]/(conf_mat[0,1]+conf_mat[1,0]+conf_mat[0,1]));"
   ]
  },
  {
   "cell_type": "code",
   "execution_count": 22,
   "metadata": {},
   "outputs": [
    {
     "name": "stderr",
     "output_type": "stream",
     "text": [
      "2020-06-18 19:34:21,558:INFO:LLE_SMOTE: Running sampling via ('LLE_SMOTE', \"{'proportion': 1.0, 'n_neighbors': 5, 'n_components': 2, 'n_jobs': 1, 'random_state': None}\")\n"
     ]
    }
   ],
   "source": [
    "import smote_variants as sv\n",
    "\n",
    "oversampler= sv.LLE_SMOTE()\n",
    "X_sm, y_sm= oversampler.sample(x_train, y_train)"
   ]
  },
  {
   "cell_type": "code",
   "execution_count": 23,
   "metadata": {},
   "outputs": [
    {
     "name": "stdout",
     "output_type": "stream",
     "text": [
      "0.999613905441789\n",
      "0.4659400544959128\n"
     ]
    }
   ],
   "source": [
    "from xgboost import XGBClassifier\n",
    "\n",
    "xgb = XGBClassifier()\n",
    "scores = cross_val_score(xgb, X_sm,  y_sm, cv=2, scoring='roc_auc');\n",
    "y_pred = cross_val_predict(xgb, X_sm,  y_sm, cv=2);\n",
    "conf_mat = confusion_matrix( y_sm ,y_pred);\n",
    "print(scores.mean());\n",
    "print(conf_mat[0,1]/(conf_mat[0,1]+conf_mat[1,0]+conf_mat[0,1]));"
   ]
  },
  {
   "cell_type": "code",
   "execution_count": 24,
   "metadata": {},
   "outputs": [
    {
     "name": "stderr",
     "output_type": "stream",
     "text": [
      "2020-06-18 19:34:43,657:INFO:distance_SMOTE: Running sampling via ('distance_SMOTE', \"{'proportion': 1.0, 'n_neighbors': 5, 'n_jobs': 1, 'random_state': None}\")\n"
     ]
    }
   ],
   "source": [
    "import smote_variants as sv\n",
    "\n",
    "oversampler= sv.distance_SMOTE()\n",
    "X_sm, y_sm= oversampler.sample(x_train, y_train)"
   ]
  },
  {
   "cell_type": "code",
   "execution_count": 25,
   "metadata": {},
   "outputs": [
    {
     "name": "stdout",
     "output_type": "stream",
     "text": [
      "0.9996035694810733\n",
      "0.4986922406277245\n"
     ]
    }
   ],
   "source": [
    "from xgboost import XGBClassifier\n",
    "\n",
    "xgb = XGBClassifier()\n",
    "scores = cross_val_score(xgb, X_sm,  y_sm, cv=2, scoring='roc_auc');\n",
    "y_pred = cross_val_predict(xgb, X_sm,  y_sm, cv=2);\n",
    "conf_mat = confusion_matrix( y_sm ,y_pred);\n",
    "print(scores.mean());\n",
    "print(conf_mat[0,1]/(conf_mat[0,1]+conf_mat[1,0]+conf_mat[0,1]));"
   ]
  },
  {
   "cell_type": "code",
   "execution_count": 26,
   "metadata": {},
   "outputs": [
    {
     "name": "stderr",
     "output_type": "stream",
     "text": [
      "2020-06-18 19:35:02,375:INFO:SMMO: Running sampling via ('SMMO', \"{'proportion': 1.0, 'n_neighbors': 5, 'ensemble': [QuadraticDiscriminantAnalysis(priors=None, reg_param=0.0,\\n                              store_covariance=False, tol=0.0001), DecisionTreeClassifier(ccp_alpha=0.0, class_weight=None, criterion='gini',\\n                       max_depth=None, max_features=None, max_leaf_nodes=None,\\n                       min_impurity_decrease=0.0, min_impurity_split=None,\\n                       min_samples_leaf=1, min_samples_split=2,\\n                       min_weight_fraction_leaf=0.0, presort='deprecated',\\n                       random_state=2, splitter='best'), GaussianNB(priors=None, var_smoothing=1e-09)], 'n_jobs': 1, 'random_state': None}\")\n"
     ]
    }
   ],
   "source": [
    "import smote_variants as sv\n",
    "\n",
    "oversampler= sv.SMMO()\n",
    "X_sm, y_sm= oversampler.sample(x_train, y_train)"
   ]
  },
  {
   "cell_type": "code",
   "execution_count": 27,
   "metadata": {},
   "outputs": [
    {
     "name": "stdout",
     "output_type": "stream",
     "text": [
      "0.9994799131535554\n",
      "0.3069306930693069\n"
     ]
    }
   ],
   "source": [
    "from xgboost import XGBClassifier\n",
    "\n",
    "xgb = XGBClassifier()\n",
    "scores = cross_val_score(xgb, X_sm,  y_sm, cv=2, scoring='roc_auc');\n",
    "y_pred = cross_val_predict(xgb, X_sm,  y_sm, cv=2);\n",
    "conf_mat = confusion_matrix( y_sm ,y_pred);\n",
    "print(scores.mean());\n",
    "print(conf_mat[0,1]/(conf_mat[0,1]+conf_mat[1,0]+conf_mat[0,1]));"
   ]
  },
  {
   "cell_type": "code",
   "execution_count": 28,
   "metadata": {},
   "outputs": [
    {
     "name": "stderr",
     "output_type": "stream",
     "text": [
      "2020-06-18 19:35:31,842:INFO:polynom_fit_SMOTE: Running sampling via ('polynom_fit_SMOTE', \"{'proportion': 1.0, 'topology': 'star', 'random_state': None}\")\n"
     ]
    }
   ],
   "source": [
    "import smote_variants as sv\n",
    "\n",
    "oversampler= sv.polynom_fit_SMOTE()\n",
    "X_sm, y_sm= oversampler.sample(x_train, y_train)"
   ]
  },
  {
   "cell_type": "code",
   "execution_count": 29,
   "metadata": {},
   "outputs": [
    {
     "name": "stdout",
     "output_type": "stream",
     "text": [
      "0.9824605929079675\n",
      "0.006806639091051887\n"
     ]
    }
   ],
   "source": [
    "from xgboost import XGBClassifier\n",
    "\n",
    "xgb = XGBClassifier()\n",
    "scores = cross_val_score(xgb, X_sm,  y_sm, cv=2, scoring='roc_auc');\n",
    "y_pred = cross_val_predict(xgb, X_sm,  y_sm, cv=2);\n",
    "conf_mat = confusion_matrix( y_sm ,y_pred);\n",
    "print(scores.mean());\n",
    "print(conf_mat[0,1]/(conf_mat[0,1]+conf_mat[1,0]+conf_mat[0,1]));"
   ]
  },
  {
   "cell_type": "code",
   "execution_count": 31,
   "metadata": {},
   "outputs": [
    {
     "name": "stderr",
     "output_type": "stream",
     "text": [
      "2020-06-18 19:37:43,172:INFO:ADOMS: Running sampling via ('ADOMS', \"{'proportion': 1.0, 'n_neighbors': 5, 'n_jobs': 1, 'random_state': None}\")\n"
     ]
    }
   ],
   "source": [
    "import smote_variants as sv\n",
    "\n",
    "oversampler= sv.ADOMS()\n",
    "X_sm, y_sm= oversampler.sample(x_train, y_train)"
   ]
  },
  {
   "cell_type": "code",
   "execution_count": 32,
   "metadata": {},
   "outputs": [
    {
     "name": "stdout",
     "output_type": "stream",
     "text": [
      "0.9995905287576257\n",
      "0.4979108635097493\n"
     ]
    }
   ],
   "source": [
    "from xgboost import XGBClassifier\n",
    "\n",
    "xgb = XGBClassifier()\n",
    "scores = cross_val_score(xgb, X_sm,  y_sm, cv=2, scoring='roc_auc');\n",
    "y_pred = cross_val_predict(xgb, X_sm,  y_sm, cv=2);\n",
    "conf_mat = confusion_matrix( y_sm ,y_pred);\n",
    "print(scores.mean());\n",
    "print(conf_mat[0,1]/(conf_mat[0,1]+conf_mat[1,0]+conf_mat[0,1]));"
   ]
  },
  {
   "cell_type": "code",
   "execution_count": 33,
   "metadata": {},
   "outputs": [
    {
     "name": "stderr",
     "output_type": "stream",
     "text": [
      "2020-06-18 19:38:43,880:INFO:Safe_Level_SMOTE: Running sampling via ('Safe_Level_SMOTE', \"{'proportion': 1.0, 'n_neighbors': 5, 'n_jobs': 1, 'random_state': None}\")\n"
     ]
    }
   ],
   "source": [
    "import smote_variants as sv\n",
    "\n",
    "oversampler= sv.Safe_Level_SMOTE()\n",
    "X_sm, y_sm= oversampler.sample(x_train, y_train)"
   ]
  },
  {
   "cell_type": "code",
   "execution_count": 34,
   "metadata": {},
   "outputs": [
    {
     "name": "stdout",
     "output_type": "stream",
     "text": [
      "0.9952168526836592\n",
      "0.28378378378378377\n"
     ]
    }
   ],
   "source": [
    "from xgboost import XGBClassifier\n",
    "\n",
    "xgb = XGBClassifier()\n",
    "scores = cross_val_score(xgb, X_sm,  y_sm, cv=2, scoring='roc_auc');\n",
    "y_pred = cross_val_predict(xgb, X_sm,  y_sm, cv=2);\n",
    "conf_mat = confusion_matrix( y_sm ,y_pred);\n",
    "print(scores.mean());\n",
    "print(conf_mat[0,1]/(conf_mat[0,1]+conf_mat[1,0]+conf_mat[0,1]));"
   ]
  },
  {
   "cell_type": "code",
   "execution_count": 35,
   "metadata": {},
   "outputs": [
    {
     "name": "stderr",
     "output_type": "stream",
     "text": [
      "2020-06-18 19:41:30,213:INFO:MSMOTE: Running sampling via ('MSMOTE', \"{'proportion': 1.0, 'n_neighbors': 5, 'n_jobs': 1, 'random_state': None}\")\n"
     ]
    }
   ],
   "source": [
    "import smote_variants as sv\n",
    "\n",
    "oversampler= sv.MSMOTE()\n",
    "X_sm, y_sm= oversampler.sample(x_train, y_train)"
   ]
  },
  {
   "cell_type": "code",
   "execution_count": 36,
   "metadata": {},
   "outputs": [
    {
     "name": "stdout",
     "output_type": "stream",
     "text": [
      "0.9996553882145256\n",
      "0.4956293706293706\n"
     ]
    }
   ],
   "source": [
    "from xgboost import XGBClassifier\n",
    "\n",
    "xgb = XGBClassifier()\n",
    "scores = cross_val_score(xgb, X_sm,  y_sm, cv=2, scoring='roc_auc');\n",
    "y_pred = cross_val_predict(xgb, X_sm,  y_sm, cv=2);\n",
    "conf_mat = confusion_matrix( y_sm ,y_pred);\n",
    "print(scores.mean());\n",
    "print(conf_mat[0,1]/(conf_mat[0,1]+conf_mat[1,0]+conf_mat[0,1]));"
   ]
  },
  {
   "cell_type": "code",
   "execution_count": 3,
   "metadata": {},
   "outputs": [
    {
     "name": "stderr",
     "output_type": "stream",
     "text": [
      "2020-06-22 22:33:09,728:INFO:DE_oversampling: Running sampling via ('DE_oversampling', \"{'proportion': 1.0, 'n_neighbors': 5, 'crossover_rate': 0.5, 'similarity_threshold': 0.5, 'n_clusters': 30, 'n_jobs': 1, 'random_state': None}\")\n"
     ]
    }
   ],
   "source": [
    "import smote_variants as sv\n",
    "\n",
    "oversampler= sv.DE_oversampling()\n",
    "X_sm, y_sm= oversampler.sample(x_train, y_train)"
   ]
  },
  {
   "cell_type": "code",
   "execution_count": 4,
   "metadata": {},
   "outputs": [
    {
     "name": "stdout",
     "output_type": "stream",
     "text": [
      "0.9955755868317077\n",
      "0.49209932279909707\n"
     ]
    }
   ],
   "source": [
    "from xgboost import XGBClassifier\n",
    "\n",
    "xgb = XGBClassifier()\n",
    "scores = cross_val_score(xgb, X_sm,  y_sm, cv=2, scoring='roc_auc');\n",
    "y_pred = cross_val_predict(xgb, X_sm,  y_sm, cv=2);\n",
    "conf_mat = confusion_matrix( y_sm ,y_pred);\n",
    "print(scores.mean());\n",
    "print(conf_mat[0,1]/(conf_mat[0,1]+conf_mat[1,0]+conf_mat[0,1]));"
   ]
  },
  {
   "cell_type": "code",
   "execution_count": 5,
   "metadata": {},
   "outputs": [
    {
     "name": "stderr",
     "output_type": "stream",
     "text": [
      "2020-06-22 22:34:00,747:INFO:SMOBD: Running sampling via ('SMOBD', \"{'proportion': 1.0, 'eta1': 0.5, 't': 1.8, 'min_samples': 5, 'max_eps': 1.0, 'n_jobs': 1, 'random_state': None}\")\n"
     ]
    }
   ],
   "source": [
    "import smote_variants as sv\n",
    "\n",
    "oversampler= sv.SMOBD()\n",
    "X_sm, y_sm= oversampler.sample(x_train, y_train)"
   ]
  },
  {
   "cell_type": "code",
   "execution_count": 6,
   "metadata": {},
   "outputs": [
    {
     "name": "stdout",
     "output_type": "stream",
     "text": [
      "0.999339976716004\n",
      "0.4996096799375488\n"
     ]
    }
   ],
   "source": [
    "from xgboost import XGBClassifier\n",
    "\n",
    "xgb = XGBClassifier()\n",
    "scores = cross_val_score(xgb, X_sm,  y_sm, cv=2, scoring='roc_auc');\n",
    "y_pred = cross_val_predict(xgb, X_sm,  y_sm, cv=2);\n",
    "conf_mat = confusion_matrix( y_sm ,y_pred);\n",
    "print(scores.mean());\n",
    "print(conf_mat[0,1]/(conf_mat[0,1]+conf_mat[1,0]+conf_mat[0,1]));"
   ]
  },
  {
   "cell_type": "code",
   "execution_count": 7,
   "metadata": {},
   "outputs": [
    {
     "name": "stdout",
     "output_type": "stream",
     "text": [
      "0.9934631580588578\n",
      "0.5\n"
     ]
    }
   ],
   "source": [
    "knn_model = KNeighborsClassifier()\n",
    "scores = cross_val_score(knn_model, X_sm,  y_sm, cv=2, scoring='roc_auc');\n",
    "y_pred = cross_val_predict(knn_model, X_sm, y_sm, cv=2);\n",
    "conf_mat = confusion_matrix( y_sm ,y_pred);\n",
    "print(scores.mean());\n",
    "print(conf_mat[0,1]/(conf_mat[0,1]+conf_mat[1,0]+conf_mat[0,1]));"
   ]
  },
  {
   "cell_type": "code",
   "execution_count": 9,
   "metadata": {},
   "outputs": [
    {
     "name": "stderr",
     "output_type": "stream",
     "text": [
      "2020-06-22 22:37:58,369:INFO:polynom_fit_SMOTE: Running sampling via ('polynom_fit_SMOTE', \"{'proportion': 1.0, 'topology': 'star', 'random_state': None}\")\n"
     ]
    }
   ],
   "source": [
    "import smote_variants as sv\n",
    "\n",
    "oversampler= sv.polynom_fit_SMOTE()\n",
    "X_sm, y_sm= oversampler.sample(x_train, y_train)"
   ]
  },
  {
   "cell_type": "code",
   "execution_count": 10,
   "metadata": {},
   "outputs": [
    {
     "name": "stdout",
     "output_type": "stream",
     "text": [
      "0.9009698701693567\n",
      "0.03589624826308476\n"
     ]
    }
   ],
   "source": [
    "knn_model = KNeighborsClassifier()\n",
    "scores = cross_val_score(knn_model, X_sm,  y_sm, cv=2, scoring='roc_auc');\n",
    "y_pred = cross_val_predict(knn_model, X_sm, y_sm, cv=2);\n",
    "conf_mat = confusion_matrix( y_sm ,y_pred);\n",
    "print(scores.mean());\n",
    "print(conf_mat[0,1]/(conf_mat[0,1]+conf_mat[1,0]+conf_mat[0,1]));"
   ]
  },
  {
   "cell_type": "code",
   "execution_count": 11,
   "metadata": {},
   "outputs": [
    {
     "name": "stderr",
     "output_type": "stream",
     "text": [
      "2020-06-22 22:38:42,241:INFO:ProWSyn: Running sampling via ('ProWSyn', \"{'proportion': 1.0, 'n_neighbors': 5, 'L': 5, 'theta': 1.0, 'n_jobs': 1, 'random_state': None}\")\n"
     ]
    }
   ],
   "source": [
    "import smote_variants as sv\n",
    "\n",
    "oversampler= sv.ProWSyn()\n",
    "X_sm, y_sm= oversampler.sample(x_train, y_train)"
   ]
  },
  {
   "cell_type": "code",
   "execution_count": 12,
   "metadata": {},
   "outputs": [
    {
     "name": "stdout",
     "output_type": "stream",
     "text": [
      "0.9886244607899537\n",
      "0.4973699590882525\n"
     ]
    }
   ],
   "source": [
    "knn_model = KNeighborsClassifier()\n",
    "scores = cross_val_score(knn_model, X_sm,  y_sm, cv=2, scoring='roc_auc');\n",
    "y_pred = cross_val_predict(knn_model, X_sm, y_sm, cv=2);\n",
    "conf_mat = confusion_matrix( y_sm ,y_pred);\n",
    "print(scores.mean());\n",
    "print(conf_mat[0,1]/(conf_mat[0,1]+conf_mat[1,0]+conf_mat[0,1]));"
   ]
  },
  {
   "cell_type": "code",
   "execution_count": 13,
   "metadata": {},
   "outputs": [
    {
     "name": "stderr",
     "output_type": "stream",
     "text": [
      "2020-06-22 22:39:17,526:INFO:SMOTE_IPF: Running sampling via ('SMOTE_IPF', \"{'proportion': 1.0, 'n_neighbors': 5, 'n_folds': 9, 'k': 3, 'p': 0.01, 'voting': 'majority', 'n_jobs': 1, 'classifier': DecisionTreeClassifier(ccp_alpha=0.0, class_weight=None, criterion='gini',\\n                       max_depth=None, max_features=None, max_leaf_nodes=None,\\n                       min_impurity_decrease=0.0, min_impurity_split=None,\\n                       min_samples_leaf=1, min_samples_split=2,\\n                       min_weight_fraction_leaf=0.0, presort='deprecated',\\n                       random_state=2, splitter='best'), 'random_state': None}\")\n",
      "2020-06-22 22:39:17,528:INFO:SMOTE: Running sampling via ('SMOTE', \"{'proportion': 1.0, 'n_neighbors': 5, 'n_jobs': 1, 'random_state': <module 'numpy.random' from 'C:\\\\\\\\Users\\\\\\\\r___e\\\\\\\\anaconda3\\\\\\\\lib\\\\\\\\site-packages\\\\\\\\numpy\\\\\\\\random\\\\\\\\__init__.py'>}\")\n",
      "2020-06-22 22:39:23,079:INFO:SMOTE_IPF: Removing 0 elements\n",
      "2020-06-22 22:39:28,367:INFO:SMOTE_IPF: Removing 0 elements\n",
      "2020-06-22 22:39:33,635:INFO:SMOTE_IPF: Removing 0 elements\n"
     ]
    }
   ],
   "source": [
    "import smote_variants as sv\n",
    "\n",
    "oversampler= sv.SMOTE_IPF()\n",
    "X_sm, y_sm= oversampler.sample(x_train, y_train)"
   ]
  },
  {
   "cell_type": "code",
   "execution_count": 14,
   "metadata": {},
   "outputs": [
    {
     "name": "stdout",
     "output_type": "stream",
     "text": [
      "0.993480549005151\n",
      "0.5\n"
     ]
    }
   ],
   "source": [
    "knn_model = KNeighborsClassifier()\n",
    "scores = cross_val_score(knn_model, X_sm,  y_sm, cv=2, scoring='roc_auc');\n",
    "y_pred = cross_val_predict(knn_model, X_sm, y_sm, cv=2);\n",
    "conf_mat = confusion_matrix( y_sm ,y_pred);\n",
    "print(scores.mean());\n",
    "print(conf_mat[0,1]/(conf_mat[0,1]+conf_mat[1,0]+conf_mat[0,1]));"
   ]
  },
  {
   "cell_type": "code",
   "execution_count": 17,
   "metadata": {},
   "outputs": [
    {
     "name": "stderr",
     "output_type": "stream",
     "text": [
      "2020-06-22 22:40:20,820:INFO:G_SMOTE: Running sampling via ('G_SMOTE', \"{'proportion': 1.0, 'n_neighbors': 5, 'method': 'linear', 'n_jobs': 1, 'random_state': None}\")\n"
     ]
    }
   ],
   "source": [
    "import smote_variants as sv\n",
    "\n",
    "oversampler= sv.G_SMOTE()\n",
    "X_sm, y_sm= oversampler.sample(x_train, y_train)"
   ]
  },
  {
   "cell_type": "code",
   "execution_count": 18,
   "metadata": {},
   "outputs": [
    {
     "name": "stdout",
     "output_type": "stream",
     "text": [
      "0.9936462745642664\n",
      "0.5\n"
     ]
    }
   ],
   "source": [
    "knn_model = KNeighborsClassifier()\n",
    "scores = cross_val_score(knn_model, X_sm,  y_sm, cv=2, scoring='roc_auc');\n",
    "y_pred = cross_val_predict(knn_model, X_sm, y_sm, cv=2);\n",
    "conf_mat = confusion_matrix( y_sm ,y_pred);\n",
    "print(scores.mean());\n",
    "print(conf_mat[0,1]/(conf_mat[0,1]+conf_mat[1,0]+conf_mat[0,1]));"
   ]
  },
  {
   "cell_type": "code",
   "execution_count": 19,
   "metadata": {},
   "outputs": [
    {
     "name": "stderr",
     "output_type": "stream",
     "text": [
      "2020-06-22 22:40:50,356:INFO:CCR: Running sampling via ('CCR', \"{'proportion': 1.0, 'energy': 1.0, 'scaling': 0.0, 'n_jobs': 1, 'random_state': None}\")\n"
     ]
    }
   ],
   "source": [
    "import smote_variants as sv\n",
    "\n",
    "oversampler= sv.CCR()\n",
    "X_sm, y_sm= oversampler.sample(x_train, y_train)"
   ]
  },
  {
   "cell_type": "code",
   "execution_count": 20,
   "metadata": {},
   "outputs": [
    {
     "name": "stdout",
     "output_type": "stream",
     "text": [
      "0.7971129120798883\n",
      "0.0189520624303233\n"
     ]
    }
   ],
   "source": [
    "knn_model = KNeighborsClassifier()\n",
    "scores = cross_val_score(knn_model, X_sm,  y_sm, cv=2, scoring='roc_auc');\n",
    "y_pred = cross_val_predict(knn_model, X_sm, y_sm, cv=2);\n",
    "conf_mat = confusion_matrix( y_sm ,y_pred);\n",
    "print(scores.mean());\n",
    "print(conf_mat[0,1]/(conf_mat[0,1]+conf_mat[1,0]+conf_mat[0,1]));"
   ]
  },
  {
   "cell_type": "code",
   "execution_count": 22,
   "metadata": {},
   "outputs": [
    {
     "name": "stderr",
     "output_type": "stream",
     "text": [
      "2020-06-22 22:41:18,538:INFO:LVQ_SMOTE: Running sampling via ('LVQ_SMOTE', \"{'proportion': 1.0, 'n_neighbors': 5, 'n_clusters': 10, 'n_jobs': 1, 'random_state': None}\")\n"
     ]
    }
   ],
   "source": [
    "import smote_variants as sv\n",
    "\n",
    "oversampler= sv.LVQ_SMOTE()\n",
    "X_sm, y_sm= oversampler.sample(x_train, y_train)"
   ]
  },
  {
   "cell_type": "code",
   "execution_count": 23,
   "metadata": {},
   "outputs": [
    {
     "name": "stdout",
     "output_type": "stream",
     "text": [
      "0.9936489226701302\n",
      "0.4799366420274551\n"
     ]
    }
   ],
   "source": [
    "knn_model = KNeighborsClassifier()\n",
    "scores = cross_val_score(knn_model, X_sm,  y_sm, cv=2, scoring='roc_auc');\n",
    "y_pred = cross_val_predict(knn_model, X_sm, y_sm, cv=2);\n",
    "conf_mat = confusion_matrix( y_sm ,y_pred);\n",
    "print(scores.mean());\n",
    "print(conf_mat[0,1]/(conf_mat[0,1]+conf_mat[1,0]+conf_mat[0,1]));"
   ]
  },
  {
   "cell_type": "code",
   "execution_count": 24,
   "metadata": {},
   "outputs": [
    {
     "name": "stderr",
     "output_type": "stream",
     "text": [
      "2020-06-22 22:42:03,332:INFO:Assembled_SMOTE: Running sampling via ('Assembled_SMOTE', \"{'proportion': 1.0, 'n_neighbors': 5, 'pop': 2, 'thres': 0.3, 'n_jobs': 1, 'random_state': None}\")\n"
     ]
    }
   ],
   "source": [
    "import smote_variants as sv\n",
    "\n",
    "oversampler= sv.Assembled_SMOTE()\n",
    "X_sm, y_sm= oversampler.sample(x_train, y_train)"
   ]
  },
  {
   "cell_type": "code",
   "execution_count": 25,
   "metadata": {},
   "outputs": [
    {
     "name": "stdout",
     "output_type": "stream",
     "text": [
      "0.9933163173188894\n",
      "0.5\n"
     ]
    }
   ],
   "source": [
    "knn_model = KNeighborsClassifier()\n",
    "scores = cross_val_score(knn_model, X_sm,  y_sm, cv=2, scoring='roc_auc');\n",
    "y_pred = cross_val_predict(knn_model, X_sm, y_sm, cv=2);\n",
    "conf_mat = confusion_matrix( y_sm ,y_pred);\n",
    "print(scores.mean());\n",
    "print(conf_mat[0,1]/(conf_mat[0,1]+conf_mat[1,0]+conf_mat[0,1]));"
   ]
  },
  {
   "cell_type": "code",
   "execution_count": 26,
   "metadata": {},
   "outputs": [
    {
     "name": "stderr",
     "output_type": "stream",
     "text": [
      "2020-06-22 22:42:15,555:INFO:SMOTE_TomekLinks: Running sampling via ('SMOTE_TomekLinks', \"{'proportion': 1.0, 'n_neighbors': 5, 'n_jobs': 1, 'random_state': None}\")\n",
      "2020-06-22 22:42:15,557:INFO:SMOTE: Running sampling via ('SMOTE', \"{'proportion': 1.0, 'n_neighbors': 5, 'n_jobs': 1, 'random_state': <module 'numpy.random' from 'C:\\\\\\\\Users\\\\\\\\r___e\\\\\\\\anaconda3\\\\\\\\lib\\\\\\\\site-packages\\\\\\\\numpy\\\\\\\\random\\\\\\\\__init__.py'>}\")\n",
      "2020-06-22 22:42:15,771:INFO:TomekLinkRemoval: Running noise removal via TomekLinkRemoval\n"
     ]
    }
   ],
   "source": [
    "import smote_variants as sv\n",
    "\n",
    "oversampler= sv.SMOTE_TomekLinks()\n",
    "X_sm, y_sm= oversampler.sample(x_train, y_train)"
   ]
  },
  {
   "cell_type": "code",
   "execution_count": 27,
   "metadata": {},
   "outputs": [
    {
     "name": "stdout",
     "output_type": "stream",
     "text": [
      "0.9934632550988132\n",
      "0.5\n"
     ]
    }
   ],
   "source": [
    "knn_model = KNeighborsClassifier()\n",
    "scores = cross_val_score(knn_model, X_sm,  y_sm, cv=2, scoring='roc_auc');\n",
    "y_pred = cross_val_predict(knn_model, X_sm, y_sm, cv=2);\n",
    "conf_mat = confusion_matrix( y_sm ,y_pred);\n",
    "print(scores.mean());\n",
    "print(conf_mat[0,1]/(conf_mat[0,1]+conf_mat[1,0]+conf_mat[0,1]));"
   ]
  },
  {
   "cell_type": "code",
   "execution_count": 33,
   "metadata": {},
   "outputs": [],
   "source": [
    "df_L.drop('Month', axis='columns', inplace=True);\n",
    "df_L.drop('Hour', axis='columns', inplace=True);\n",
    "df_L.drop('Minute', axis='columns', inplace=True);\n",
    "x_train = df_L.to_numpy()"
   ]
  },
  {
   "cell_type": "code",
   "execution_count": 34,
   "metadata": {},
   "outputs": [
    {
     "name": "stderr",
     "output_type": "stream",
     "text": [
      "2020-06-22 22:47:38,302:INFO:G_SMOTE: Running sampling via ('G_SMOTE', \"{'proportion': 1.0, 'n_neighbors': 5, 'method': 'linear', 'n_jobs': 1, 'random_state': None}\")\n"
     ]
    }
   ],
   "source": [
    "import smote_variants as sv\n",
    "\n",
    "oversampler= sv.G_SMOTE()\n",
    "X_sm, y_sm= oversampler.sample(x_train, y_train)"
   ]
  },
  {
   "cell_type": "code",
   "execution_count": 35,
   "metadata": {},
   "outputs": [
    {
     "name": "stdout",
     "output_type": "stream",
     "text": [
      "0.9959725019095896\n",
      "0.5\n"
     ]
    }
   ],
   "source": [
    "knn_model = KNeighborsClassifier()\n",
    "scores = cross_val_score(knn_model, X_sm,  y_sm, cv=2, scoring='roc_auc');\n",
    "y_pred = cross_val_predict(knn_model, X_sm, y_sm, cv=2);\n",
    "conf_mat = confusion_matrix( y_sm ,y_pred);\n",
    "print(scores.mean());\n",
    "print(conf_mat[0,1]/(conf_mat[0,1]+conf_mat[1,0]+conf_mat[0,1]));"
   ]
  },
  {
   "cell_type": "code",
   "execution_count": null,
   "metadata": {},
   "outputs": [],
   "source": []
  }
 ],
 "metadata": {
  "kernelspec": {
   "display_name": "Python 3",
   "language": "python",
   "name": "python3"
  },
  "language_info": {
   "codemirror_mode": {
    "name": "ipython",
    "version": 3
   },
   "file_extension": ".py",
   "mimetype": "text/x-python",
   "name": "python",
   "nbconvert_exporter": "python",
   "pygments_lexer": "ipython3",
   "version": "3.7.6"
  }
 },
 "nbformat": 4,
 "nbformat_minor": 4
}
