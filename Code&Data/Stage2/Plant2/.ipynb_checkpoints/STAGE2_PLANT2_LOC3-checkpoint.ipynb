{
 "cells": [
  {
   "cell_type": "code",
   "execution_count": 1,
   "metadata": {},
   "outputs": [
    {
     "name": "stderr",
     "output_type": "stream",
     "text": [
      "Using TensorFlow backend.\n",
      "C:\\Users\\r___e\\anaconda3\\lib\\site-packages\\tensorflow\\python\\framework\\dtypes.py:516: FutureWarning: Passing (type, 1) or '1type' as a synonym of type is deprecated; in a future version of numpy, it will be understood as (type, (1,)) / '(1,)type'.\n",
      "  _np_qint8 = np.dtype([(\"qint8\", np.int8, 1)])\n",
      "C:\\Users\\r___e\\anaconda3\\lib\\site-packages\\tensorflow\\python\\framework\\dtypes.py:517: FutureWarning: Passing (type, 1) or '1type' as a synonym of type is deprecated; in a future version of numpy, it will be understood as (type, (1,)) / '(1,)type'.\n",
      "  _np_quint8 = np.dtype([(\"quint8\", np.uint8, 1)])\n",
      "C:\\Users\\r___e\\anaconda3\\lib\\site-packages\\tensorflow\\python\\framework\\dtypes.py:518: FutureWarning: Passing (type, 1) or '1type' as a synonym of type is deprecated; in a future version of numpy, it will be understood as (type, (1,)) / '(1,)type'.\n",
      "  _np_qint16 = np.dtype([(\"qint16\", np.int16, 1)])\n",
      "C:\\Users\\r___e\\anaconda3\\lib\\site-packages\\tensorflow\\python\\framework\\dtypes.py:519: FutureWarning: Passing (type, 1) or '1type' as a synonym of type is deprecated; in a future version of numpy, it will be understood as (type, (1,)) / '(1,)type'.\n",
      "  _np_quint16 = np.dtype([(\"quint16\", np.uint16, 1)])\n",
      "C:\\Users\\r___e\\anaconda3\\lib\\site-packages\\tensorflow\\python\\framework\\dtypes.py:520: FutureWarning: Passing (type, 1) or '1type' as a synonym of type is deprecated; in a future version of numpy, it will be understood as (type, (1,)) / '(1,)type'.\n",
      "  _np_qint32 = np.dtype([(\"qint32\", np.int32, 1)])\n",
      "C:\\Users\\r___e\\anaconda3\\lib\\site-packages\\tensorflow\\python\\framework\\dtypes.py:525: FutureWarning: Passing (type, 1) or '1type' as a synonym of type is deprecated; in a future version of numpy, it will be understood as (type, (1,)) / '(1,)type'.\n",
      "  np_resource = np.dtype([(\"resource\", np.ubyte, 1)])\n",
      "C:\\Users\\r___e\\anaconda3\\lib\\site-packages\\tensorboard\\compat\\tensorflow_stub\\dtypes.py:541: FutureWarning: Passing (type, 1) or '1type' as a synonym of type is deprecated; in a future version of numpy, it will be understood as (type, (1,)) / '(1,)type'.\n",
      "  _np_qint8 = np.dtype([(\"qint8\", np.int8, 1)])\n",
      "C:\\Users\\r___e\\anaconda3\\lib\\site-packages\\tensorboard\\compat\\tensorflow_stub\\dtypes.py:542: FutureWarning: Passing (type, 1) or '1type' as a synonym of type is deprecated; in a future version of numpy, it will be understood as (type, (1,)) / '(1,)type'.\n",
      "  _np_quint8 = np.dtype([(\"quint8\", np.uint8, 1)])\n",
      "C:\\Users\\r___e\\anaconda3\\lib\\site-packages\\tensorboard\\compat\\tensorflow_stub\\dtypes.py:543: FutureWarning: Passing (type, 1) or '1type' as a synonym of type is deprecated; in a future version of numpy, it will be understood as (type, (1,)) / '(1,)type'.\n",
      "  _np_qint16 = np.dtype([(\"qint16\", np.int16, 1)])\n",
      "C:\\Users\\r___e\\anaconda3\\lib\\site-packages\\tensorboard\\compat\\tensorflow_stub\\dtypes.py:544: FutureWarning: Passing (type, 1) or '1type' as a synonym of type is deprecated; in a future version of numpy, it will be understood as (type, (1,)) / '(1,)type'.\n",
      "  _np_quint16 = np.dtype([(\"quint16\", np.uint16, 1)])\n",
      "C:\\Users\\r___e\\anaconda3\\lib\\site-packages\\tensorboard\\compat\\tensorflow_stub\\dtypes.py:545: FutureWarning: Passing (type, 1) or '1type' as a synonym of type is deprecated; in a future version of numpy, it will be understood as (type, (1,)) / '(1,)type'.\n",
      "  _np_qint32 = np.dtype([(\"qint32\", np.int32, 1)])\n",
      "C:\\Users\\r___e\\anaconda3\\lib\\site-packages\\tensorboard\\compat\\tensorflow_stub\\dtypes.py:550: FutureWarning: Passing (type, 1) or '1type' as a synonym of type is deprecated; in a future version of numpy, it will be understood as (type, (1,)) / '(1,)type'.\n",
      "  np_resource = np.dtype([(\"resource\", np.ubyte, 1)])\n"
     ]
    }
   ],
   "source": [
    "import numpy as np\n",
    "import pandas as pd\n",
    "import matplotlib.pyplot as plt\n",
    "from sklearn.decomposition import PCA, TruncatedSVD\n",
    "from imblearn.combine import SMOTEENN\n",
    "from sklearn.linear_model import LogisticRegression\n",
    "from imblearn.ensemble import EasyEnsembleClassifier\n",
    "from sklearn.model_selection import cross_val_score\n",
    "from sklearn.model_selection import cross_val_predict"
   ]
  },
  {
   "cell_type": "code",
   "execution_count": 2,
   "metadata": {},
   "outputs": [],
   "source": [
    "df_L = pd.read_csv('TrainData\\Plant2_Location3_No_Nan.csv');\n",
    "df_L_24 = pd.read_csv('TestData\\Test_P2_L3_24.csv');\n",
    "df_L_48 = pd.read_csv('TestData\\Test_P2_L3_48.csv');"
   ]
  },
  {
   "cell_type": "markdown",
   "metadata": {},
   "source": [
    "# Training"
   ]
  },
  {
   "cell_type": "code",
   "execution_count": 3,
   "metadata": {},
   "outputs": [],
   "source": [
    "y_train = df_L.loc[:,'cond'];\n",
    "df_L.drop('cond', axis='columns', inplace=True);\n",
    "df_L.drop('Year', axis='columns', inplace=True);\n",
    "df_L.drop('Day', axis='columns', inplace=True);\n",
    "df_L.drop('Month', axis='columns', inplace=True);\n",
    "df_L.drop('Hour', axis='columns', inplace=True);\n",
    "df_L.drop('Minute', axis='columns', inplace=True);\n",
    "df_L_24.drop('Year', axis='columns', inplace=True);\n",
    "df_L_24.drop('Day', axis='columns', inplace=True);\n",
    "df_L_24.drop('Month', axis='columns', inplace=True);\n",
    "df_L_24.drop('Hour', axis='columns', inplace=True);\n",
    "df_L_24.drop('Minute', axis='columns', inplace=True);\n",
    "df_L_48.drop('Year', axis='columns', inplace=True);\n",
    "df_L_48.drop('Day', axis='columns', inplace=True);\n",
    "df_L_48.drop('Month', axis='columns', inplace=True);\n",
    "df_L_48.drop('Hour', axis='columns', inplace=True);\n",
    "df_L_48.drop('Minute', axis='columns', inplace=True);\n",
    "x_train = df_L;\n",
    "x_L24 = df_L_24;\n",
    "x_L48 = df_L_48;"
   ]
  },
  {
   "cell_type": "code",
   "execution_count": 4,
   "metadata": {},
   "outputs": [],
   "source": [
    "class proba_eec(EasyEnsembleClassifier):\n",
    "    def predict(self, X):\n",
    "        return EasyEnsembleClassifier.predict_proba(self, X)\n",
    "\n",
    "y_pred = cross_val_predict(proba_eec(), x_train, y_train, cv=5);"
   ]
  },
  {
   "cell_type": "code",
   "execution_count": 5,
   "metadata": {},
   "outputs": [
    {
     "name": "stdout",
     "output_type": "stream",
     "text": [
      "57690\n"
     ]
    }
   ],
   "source": [
    "y_pred = np.delete(y_pred,(0), axis=1)\n",
    "print(y_pred.size)"
   ]
  },
  {
   "cell_type": "code",
   "execution_count": 6,
   "metadata": {},
   "outputs": [
    {
     "data": {
      "image/png": "[encoded data removed]",
      "text/plain": [
       "<Figure size 432x288 with 1 Axes>"
      ]
     },
     "metadata": {
      "needs_background": "light"
     },
     "output_type": "display_data"
    },
    {
     "data": {
      "text/plain": [
       "<Figure size 432x288 with 0 Axes>"
      ]
     },
     "metadata": {},
     "output_type": "display_data"
    }
   ],
   "source": [
    "plt.hist(y_pred, bins=15)\n",
    "plt.show()\n",
    "plt.clf()"
   ]
  },
  {
   "cell_type": "code",
   "execution_count": 7,
   "metadata": {},
   "outputs": [],
   "source": [
    "logical = np.zeros((y_pred.size, 1), dtype=bool)\n",
    "for i in range(y_pred.size):\n",
    "    if(y_pred[i] > 0.35):\n",
    "        if(y_pred[i] < 0.5):\n",
    "            logical[i] = 1;"
   ]
  },
  {
   "cell_type": "code",
   "execution_count": 8,
   "metadata": {},
   "outputs": [
    {
     "name": "stdout",
     "output_type": "stream",
     "text": [
      "57690\n",
      "(1466, 1)\n"
     ]
    }
   ],
   "source": [
    "print(logical.size)\n",
    "index = np.argwhere(logical ==1)\n",
    "index = np.delete(index, (1), axis= 1)\n",
    "print(index.shape)"
   ]
  },
  {
   "cell_type": "code",
   "execution_count": 9,
   "metadata": {},
   "outputs": [],
   "source": [
    "df_L = pd.read_csv('TrainData\\Plant2_Location3_No_Nan.csv');\n",
    "for i in range(index.size):\n",
    "    num = index[i] - i;\n",
    "    df_L.drop(df_L.index[num], inplace=True)"
   ]
  },
  {
   "cell_type": "code",
   "execution_count": 10,
   "metadata": {},
   "outputs": [],
   "source": [
    "y_train = df_L.loc[:,'cond'];\n",
    "df_L.drop('cond', axis='columns', inplace=True);\n",
    "df_L.drop('Year', axis='columns', inplace=True);\n",
    "df_L.drop('Month', axis='columns', inplace=True);\n",
    "df_L.drop('Day', axis='columns', inplace=True);\n",
    "df_L.drop('Hour', axis='columns', inplace=True);\n",
    "df_L.drop('Minute', axis='columns', inplace=True);\n",
    "x_train = df_L;\n",
    "x_L24 = np.vstack([x_train, x_L24]);\n",
    "x_L48 = np.vstack([x_train, x_L48]);"
   ]
  },
  {
   "cell_type": "markdown",
   "metadata": {},
   "source": [
    "## PCA"
   ]
  },
  {
   "cell_type": "code",
   "execution_count": 11,
   "metadata": {},
   "outputs": [],
   "source": [
    "from sklearn.decomposition import PCA, TruncatedSVD\n",
    "\n",
    "X_p24 = PCA(n_components=5, random_state=42).fit_transform(x_L24);\n",
    "X_p48 = PCA(n_components=5, random_state=42).fit_transform(x_L48);"
   ]
  },
  {
   "cell_type": "markdown",
   "metadata": {},
   "source": [
    "## 분리"
   ]
  },
  {
   "cell_type": "code",
   "execution_count": 12,
   "metadata": {},
   "outputs": [],
   "source": [
    "x_train24 = X_p24[0:x_train.shape[0],:];\n",
    "x_train48 = X_p48[0:x_train.shape[0],:];\n",
    "x_test24 = X_p24[x_train.shape[0]:,:];\n",
    "x_test48 = X_p48[x_train.shape[0]:,:];"
   ]
  },
  {
   "cell_type": "markdown",
   "metadata": {},
   "source": [
    "## Predict"
   ]
  },
  {
   "cell_type": "code",
   "execution_count": 13,
   "metadata": {},
   "outputs": [],
   "source": [
    "from imblearn.combine import SMOTEENN\n",
    "\n",
    "smt = SMOTEENN(sampling_strategy='auto', random_state=42);\n",
    "X_sm24, y_sm24 = smt.fit_sample(x_train24, y_train)\n",
    "X_sm48 ,y_sm48 = smt.fit_sample(x_train48, y_train)"
   ]
  },
  {
   "cell_type": "code",
   "execution_count": 14,
   "metadata": {},
   "outputs": [],
   "source": [
    "lr_model24 = LogisticRegression(solver = 'saga',max_iter = 10000);\n",
    "lr_model48 = LogisticRegression(solver = 'saga',max_iter = 10000);\n",
    "lr_model24.fit(X_sm24,y_sm24.ravel());\n",
    "lr_model48.fit(X_sm48,y_sm48.ravel());"
   ]
  },
  {
   "cell_type": "code",
   "execution_count": 15,
   "metadata": {},
   "outputs": [],
   "source": [
    "P_24= lr_model24.predict(x_test24);\n",
    "PP_24 = lr_model24.predict_proba(x_test24);\n",
    "P_48= lr_model48.predict(x_test48);\n",
    "PP_48 = lr_model48.predict_proba(x_test48);\n",
    "PP_24 = np.delete(PP_24,(0), axis=1)\n",
    "PP_48 = np.delete(PP_48,(0), axis=1)"
   ]
  },
  {
   "cell_type": "markdown",
   "metadata": {},
   "source": [
    "# Save"
   ]
  },
  {
   "cell_type": "code",
   "execution_count": 16,
   "metadata": {},
   "outputs": [],
   "source": [
    "df_T = pd.read_csv('TestData\\Time_P2_L3_Data.csv');\n",
    "\n",
    "df_T.drop('tem_in', axis='columns', inplace=True);\n",
    "df_T.drop('tem_coil', axis='columns', inplace=True);\n",
    "df_T.drop('tem_out', axis='columns', inplace=True);\n",
    "df_T.drop('hum_in', axis='columns', inplace=True);\n",
    "df_T.drop('hum_out', axis='columns', inplace=True);"
   ]
  },
  {
   "cell_type": "code",
   "execution_count": 17,
   "metadata": {},
   "outputs": [
    {
     "data": {
      "text/html": [
       "<div>\n",
       "<style scoped>\n",
       "    .dataframe tbody tr th:only-of-type {\n",
       "        vertical-align: middle;\n",
       "    }\n",
       "\n",
       "    .dataframe tbody tr th {\n",
       "        vertical-align: top;\n",
       "    }\n",
       "\n",
       "    .dataframe thead th {\n",
       "        text-align: right;\n",
       "    }\n",
       "</style>\n",
       "<table border=\"1\" class=\"dataframe\">\n",
       "  <thead>\n",
       "    <tr style=\"text-align: right;\">\n",
       "      <th></th>\n",
       "      <th>Year</th>\n",
       "      <th>Month</th>\n",
       "      <th>Day</th>\n",
       "      <th>Hour</th>\n",
       "      <th>Minute</th>\n",
       "    </tr>\n",
       "  </thead>\n",
       "  <tbody>\n",
       "    <tr>\n",
       "      <th>0</th>\n",
       "      <td>2019</td>\n",
       "      <td>4</td>\n",
       "      <td>1</td>\n",
       "      <td>0</td>\n",
       "      <td>0</td>\n",
       "    </tr>\n",
       "    <tr>\n",
       "      <th>1</th>\n",
       "      <td>2019</td>\n",
       "      <td>4</td>\n",
       "      <td>1</td>\n",
       "      <td>10</td>\n",
       "      <td>30</td>\n",
       "    </tr>\n",
       "    <tr>\n",
       "      <th>2</th>\n",
       "      <td>2019</td>\n",
       "      <td>4</td>\n",
       "      <td>1</td>\n",
       "      <td>18</td>\n",
       "      <td>30</td>\n",
       "    </tr>\n",
       "    <tr>\n",
       "      <th>3</th>\n",
       "      <td>2019</td>\n",
       "      <td>4</td>\n",
       "      <td>3</td>\n",
       "      <td>3</td>\n",
       "      <td>0</td>\n",
       "    </tr>\n",
       "    <tr>\n",
       "      <th>4</th>\n",
       "      <td>2019</td>\n",
       "      <td>4</td>\n",
       "      <td>4</td>\n",
       "      <td>14</td>\n",
       "      <td>30</td>\n",
       "    </tr>\n",
       "  </tbody>\n",
       "</table>\n",
       "</div>"
      ],
      "text/plain": [
       "   Year  Month  Day  Hour  Minute\n",
       "0  2019      4    1     0       0\n",
       "1  2019      4    1    10      30\n",
       "2  2019      4    1    18      30\n",
       "3  2019      4    3     3       0\n",
       "4  2019      4    4    14      30"
      ]
     },
     "execution_count": 17,
     "metadata": {},
     "output_type": "execute_result"
    }
   ],
   "source": [
    "df_T.head()"
   ]
  },
  {
   "cell_type": "code",
   "execution_count": 18,
   "metadata": {},
   "outputs": [],
   "source": [
    "df_T['24H'] = P_24;\n",
    "df_T['24H_P'] = PP_24;\n",
    "df_T['48H'] = P_48;\n",
    "df_T['48H_P'] = PP_48;"
   ]
  },
  {
   "cell_type": "code",
   "execution_count": 19,
   "metadata": {},
   "outputs": [],
   "source": [
    "df_T.to_csv('Result_P2_L3.csv',index = False) "
   ]
  },
  {
   "cell_type": "code",
   "execution_count": null,
   "metadata": {},
   "outputs": [],
   "source": []
  }
 ],
 "metadata": {
  "kernelspec": {
   "display_name": "Python 3",
   "language": "python",
   "name": "python3"
  },
  "language_info": {
   "codemirror_mode": {
    "name": "ipython",
    "version": 3
   },
   "file_extension": ".py",
   "mimetype": "text/x-python",
   "name": "python",
   "nbconvert_exporter": "python",
   "pygments_lexer": "ipython3",
   "version": "3.7.6"
  }
 },
 "nbformat": 4,
 "nbformat_minor": 4
}
