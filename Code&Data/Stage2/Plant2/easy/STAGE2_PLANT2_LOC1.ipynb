{
 "cells": [
  {
   "cell_type": "code",
   "execution_count": 1,
   "metadata": {},
   "outputs": [
    {
     "name": "stderr",
     "output_type": "stream",
     "text": [
      "Using TensorFlow backend.\n",
      "C:\\Users\\r___e\\anaconda3\\lib\\site-packages\\tensorflow\\python\\framework\\dtypes.py:516: FutureWarning: Passing (type, 1) or '1type' as a synonym of type is deprecated; in a future version of numpy, it will be understood as (type, (1,)) / '(1,)type'.\n",
      "  _np_qint8 = np.dtype([(\"qint8\", np.int8, 1)])\n",
      "C:\\Users\\r___e\\anaconda3\\lib\\site-packages\\tensorflow\\python\\framework\\dtypes.py:517: FutureWarning: Passing (type, 1) or '1type' as a synonym of type is deprecated; in a future version of numpy, it will be understood as (type, (1,)) / '(1,)type'.\n",
      "  _np_quint8 = np.dtype([(\"quint8\", np.uint8, 1)])\n",
      "C:\\Users\\r___e\\anaconda3\\lib\\site-packages\\tensorflow\\python\\framework\\dtypes.py:518: FutureWarning: Passing (type, 1) or '1type' as a synonym of type is deprecated; in a future version of numpy, it will be understood as (type, (1,)) / '(1,)type'.\n",
      "  _np_qint16 = np.dtype([(\"qint16\", np.int16, 1)])\n",
      "C:\\Users\\r___e\\anaconda3\\lib\\site-packages\\tensorflow\\python\\framework\\dtypes.py:519: FutureWarning: Passing (type, 1) or '1type' as a synonym of type is deprecated; in a future version of numpy, it will be understood as (type, (1,)) / '(1,)type'.\n",
      "  _np_quint16 = np.dtype([(\"quint16\", np.uint16, 1)])\n",
      "C:\\Users\\r___e\\anaconda3\\lib\\site-packages\\tensorflow\\python\\framework\\dtypes.py:520: FutureWarning: Passing (type, 1) or '1type' as a synonym of type is deprecated; in a future version of numpy, it will be understood as (type, (1,)) / '(1,)type'.\n",
      "  _np_qint32 = np.dtype([(\"qint32\", np.int32, 1)])\n",
      "C:\\Users\\r___e\\anaconda3\\lib\\site-packages\\tensorflow\\python\\framework\\dtypes.py:525: FutureWarning: Passing (type, 1) or '1type' as a synonym of type is deprecated; in a future version of numpy, it will be understood as (type, (1,)) / '(1,)type'.\n",
      "  np_resource = np.dtype([(\"resource\", np.ubyte, 1)])\n",
      "C:\\Users\\r___e\\anaconda3\\lib\\site-packages\\tensorboard\\compat\\tensorflow_stub\\dtypes.py:541: FutureWarning: Passing (type, 1) or '1type' as a synonym of type is deprecated; in a future version of numpy, it will be understood as (type, (1,)) / '(1,)type'.\n",
      "  _np_qint8 = np.dtype([(\"qint8\", np.int8, 1)])\n",
      "C:\\Users\\r___e\\anaconda3\\lib\\site-packages\\tensorboard\\compat\\tensorflow_stub\\dtypes.py:542: FutureWarning: Passing (type, 1) or '1type' as a synonym of type is deprecated; in a future version of numpy, it will be understood as (type, (1,)) / '(1,)type'.\n",
      "  _np_quint8 = np.dtype([(\"quint8\", np.uint8, 1)])\n",
      "C:\\Users\\r___e\\anaconda3\\lib\\site-packages\\tensorboard\\compat\\tensorflow_stub\\dtypes.py:543: FutureWarning: Passing (type, 1) or '1type' as a synonym of type is deprecated; in a future version of numpy, it will be understood as (type, (1,)) / '(1,)type'.\n",
      "  _np_qint16 = np.dtype([(\"qint16\", np.int16, 1)])\n",
      "C:\\Users\\r___e\\anaconda3\\lib\\site-packages\\tensorboard\\compat\\tensorflow_stub\\dtypes.py:544: FutureWarning: Passing (type, 1) or '1type' as a synonym of type is deprecated; in a future version of numpy, it will be understood as (type, (1,)) / '(1,)type'.\n",
      "  _np_quint16 = np.dtype([(\"quint16\", np.uint16, 1)])\n",
      "C:\\Users\\r___e\\anaconda3\\lib\\site-packages\\tensorboard\\compat\\tensorflow_stub\\dtypes.py:545: FutureWarning: Passing (type, 1) or '1type' as a synonym of type is deprecated; in a future version of numpy, it will be understood as (type, (1,)) / '(1,)type'.\n",
      "  _np_qint32 = np.dtype([(\"qint32\", np.int32, 1)])\n",
      "C:\\Users\\r___e\\anaconda3\\lib\\site-packages\\tensorboard\\compat\\tensorflow_stub\\dtypes.py:550: FutureWarning: Passing (type, 1) or '1type' as a synonym of type is deprecated; in a future version of numpy, it will be understood as (type, (1,)) / '(1,)type'.\n",
      "  np_resource = np.dtype([(\"resource\", np.ubyte, 1)])\n"
     ]
    }
   ],
   "source": [
    "import numpy as np\n",
    "import pandas as pd\n",
    "import matplotlib.pyplot as plt\n",
    "from imblearn.ensemble import EasyEnsembleClassifier\n",
    "from sklearn.naive_bayes import GaussianNB\n",
    "from sklearn.model_selection import cross_val_score\n",
    "from sklearn.model_selection import cross_val_predict\n",
    "import matplotlib.pyplot as plt\n",
    "import seaborn as sns"
   ]
  },
  {
   "cell_type": "code",
   "execution_count": 2,
   "metadata": {},
   "outputs": [],
   "source": [
    "df_L = pd.read_csv('TrainData\\Plant2_Location1_No_Nan.csv');\n",
    "df_L_24 = pd.read_csv('TestData\\Test_P2_L1_24.csv');\n",
    "df_L_48 = pd.read_csv('TestData\\Test_P2_L1_48.csv');"
   ]
  },
  {
   "cell_type": "markdown",
   "metadata": {},
   "source": [
    "# Training"
   ]
  },
  {
   "cell_type": "code",
   "execution_count": 3,
   "metadata": {},
   "outputs": [],
   "source": [
    "y_train = df_L.loc[:,'cond'];\n",
    "df_L.drop('cond', axis='columns', inplace=True);\n",
    "df_L.drop('Year', axis='columns', inplace=True);\n",
    "df_L.drop('Month', axis='columns', inplace=True);\n",
    "df_L.drop('Day', axis='columns', inplace=True);\n",
    "df_L.drop('Hour', axis='columns', inplace=True);\n",
    "df_L.drop('Minute', axis='columns', inplace=True);\n",
    "x_train = df_L;"
   ]
  },
  {
   "cell_type": "code",
   "execution_count": 4,
   "metadata": {},
   "outputs": [
    {
     "data": {
      "text/html": [
       "<div>\n",
       "<style scoped>\n",
       "    .dataframe tbody tr th:only-of-type {\n",
       "        vertical-align: middle;\n",
       "    }\n",
       "\n",
       "    .dataframe tbody tr th {\n",
       "        vertical-align: top;\n",
       "    }\n",
       "\n",
       "    .dataframe thead th {\n",
       "        text-align: right;\n",
       "    }\n",
       "</style>\n",
       "<table border=\"1\" class=\"dataframe\">\n",
       "  <thead>\n",
       "    <tr style=\"text-align: right;\">\n",
       "      <th></th>\n",
       "      <th>tem_in</th>\n",
       "      <th>hum_in</th>\n",
       "      <th>tem_coil</th>\n",
       "      <th>tem_out</th>\n",
       "      <th>hum_out</th>\n",
       "    </tr>\n",
       "  </thead>\n",
       "  <tbody>\n",
       "    <tr>\n",
       "      <th>0</th>\n",
       "      <td>22.39</td>\n",
       "      <td>55.46</td>\n",
       "      <td>27.46</td>\n",
       "      <td>17.72</td>\n",
       "      <td>62.94</td>\n",
       "    </tr>\n",
       "    <tr>\n",
       "      <th>1</th>\n",
       "      <td>17.81</td>\n",
       "      <td>62.64</td>\n",
       "      <td>27.08</td>\n",
       "      <td>11.37</td>\n",
       "      <td>76.95</td>\n",
       "    </tr>\n",
       "    <tr>\n",
       "      <th>2</th>\n",
       "      <td>15.13</td>\n",
       "      <td>66.70</td>\n",
       "      <td>26.93</td>\n",
       "      <td>9.79</td>\n",
       "      <td>79.46</td>\n",
       "    </tr>\n",
       "    <tr>\n",
       "      <th>3</th>\n",
       "      <td>13.82</td>\n",
       "      <td>68.53</td>\n",
       "      <td>26.47</td>\n",
       "      <td>8.35</td>\n",
       "      <td>81.56</td>\n",
       "    </tr>\n",
       "    <tr>\n",
       "      <th>4</th>\n",
       "      <td>12.93</td>\n",
       "      <td>73.87</td>\n",
       "      <td>26.20</td>\n",
       "      <td>7.68</td>\n",
       "      <td>89.10</td>\n",
       "    </tr>\n",
       "  </tbody>\n",
       "</table>\n",
       "</div>"
      ],
      "text/plain": [
       "   tem_in  hum_in  tem_coil  tem_out  hum_out\n",
       "0   22.39   55.46     27.46    17.72    62.94\n",
       "1   17.81   62.64     27.08    11.37    76.95\n",
       "2   15.13   66.70     26.93     9.79    79.46\n",
       "3   13.82   68.53     26.47     8.35    81.56\n",
       "4   12.93   73.87     26.20     7.68    89.10"
      ]
     },
     "execution_count": 4,
     "metadata": {},
     "output_type": "execute_result"
    }
   ],
   "source": [
    "df_L.head()"
   ]
  },
  {
   "cell_type": "code",
   "execution_count": 5,
   "metadata": {},
   "outputs": [
    {
     "name": "stdout",
     "output_type": "stream",
     "text": [
      "57690\n"
     ]
    }
   ],
   "source": [
    "print(y_train.size)"
   ]
  },
  {
   "cell_type": "code",
   "execution_count": 6,
   "metadata": {},
   "outputs": [],
   "source": [
    "class proba_eec(EasyEnsembleClassifier):\n",
    "    def predict(self, X):\n",
    "        return EasyEnsembleClassifier.predict_proba(self, X)\n",
    "\n",
    "y_pred = cross_val_predict(proba_eec(), x_train, y_train, cv=5);"
   ]
  },
  {
   "cell_type": "code",
   "execution_count": 7,
   "metadata": {},
   "outputs": [
    {
     "name": "stdout",
     "output_type": "stream",
     "text": [
      "57690\n"
     ]
    }
   ],
   "source": [
    "y_pred = np.delete(y_pred,(0), axis=1)\n",
    "print(y_pred.size)"
   ]
  },
  {
   "cell_type": "code",
   "execution_count": 8,
   "metadata": {},
   "outputs": [
    {
     "data": {
      "image/png": "[encoded data removed]",
      "text/plain": [
       "<Figure size 432x288 with 1 Axes>"
      ]
     },
     "metadata": {
      "needs_background": "light"
     },
     "output_type": "display_data"
    },
    {
     "data": {
      "text/plain": [
       "<Figure size 432x288 with 0 Axes>"
      ]
     },
     "metadata": {},
     "output_type": "display_data"
    }
   ],
   "source": [
    "plt.hist(y_pred, bins=15)\n",
    "plt.show()\n",
    "plt.clf()"
   ]
  },
  {
   "cell_type": "code",
   "execution_count": 9,
   "metadata": {},
   "outputs": [],
   "source": [
    "logical = np.zeros((y_pred.size, 1), dtype=bool)\n",
    "for i in range(y_pred.size):\n",
    "    if(y_pred[i] > 0.35):\n",
    "        if(y_pred[i] < 0.5):\n",
    "            logical[i] = 1;"
   ]
  },
  {
   "cell_type": "code",
   "execution_count": 10,
   "metadata": {},
   "outputs": [
    {
     "name": "stdout",
     "output_type": "stream",
     "text": [
      "57690\n",
      "(4130, 1)\n"
     ]
    }
   ],
   "source": [
    "print(logical.size)\n",
    "index = np.argwhere(logical ==1)\n",
    "index = np.delete(index, (1), axis= 1)\n",
    "print(index.shape)"
   ]
  },
  {
   "cell_type": "code",
   "execution_count": 11,
   "metadata": {},
   "outputs": [],
   "source": [
    "df_L = pd.read_csv('TrainData\\Plant2_Location1_No_Nan.csv');\n",
    "for i in range(index.size):\n",
    "    num = index[i] - i;\n",
    "    df_L.drop(df_L.index[num], inplace=True)"
   ]
  },
  {
   "cell_type": "code",
   "execution_count": 12,
   "metadata": {},
   "outputs": [],
   "source": [
    "y_train = df_L.loc[:,'cond'];\n",
    "df_L.drop('cond', axis='columns', inplace=True);\n",
    "df_L.drop('Year', axis='columns', inplace=True);\n",
    "df_L.drop('Month', axis='columns', inplace=True);\n",
    "df_L.drop('Day', axis='columns', inplace=True);\n",
    "df_L.drop('Hour', axis='columns', inplace=True);\n",
    "df_L.drop('Minute', axis='columns', inplace=True);\n",
    "x_train = df_L;"
   ]
  },
  {
   "cell_type": "code",
   "execution_count": 13,
   "metadata": {},
   "outputs": [
    {
     "data": {
      "text/html": [
       "<div>\n",
       "<style scoped>\n",
       "    .dataframe tbody tr th:only-of-type {\n",
       "        vertical-align: middle;\n",
       "    }\n",
       "\n",
       "    .dataframe tbody tr th {\n",
       "        vertical-align: top;\n",
       "    }\n",
       "\n",
       "    .dataframe thead th {\n",
       "        text-align: right;\n",
       "    }\n",
       "</style>\n",
       "<table border=\"1\" class=\"dataframe\">\n",
       "  <thead>\n",
       "    <tr style=\"text-align: right;\">\n",
       "      <th></th>\n",
       "      <th>tem_in</th>\n",
       "      <th>hum_in</th>\n",
       "      <th>tem_coil</th>\n",
       "      <th>tem_out</th>\n",
       "      <th>hum_out</th>\n",
       "    </tr>\n",
       "  </thead>\n",
       "  <tbody>\n",
       "    <tr>\n",
       "      <th>0</th>\n",
       "      <td>22.39</td>\n",
       "      <td>55.46</td>\n",
       "      <td>27.46</td>\n",
       "      <td>17.72</td>\n",
       "      <td>62.94</td>\n",
       "    </tr>\n",
       "    <tr>\n",
       "      <th>1</th>\n",
       "      <td>17.81</td>\n",
       "      <td>62.64</td>\n",
       "      <td>27.08</td>\n",
       "      <td>11.37</td>\n",
       "      <td>76.95</td>\n",
       "    </tr>\n",
       "    <tr>\n",
       "      <th>2</th>\n",
       "      <td>15.13</td>\n",
       "      <td>66.70</td>\n",
       "      <td>26.93</td>\n",
       "      <td>9.79</td>\n",
       "      <td>79.46</td>\n",
       "    </tr>\n",
       "    <tr>\n",
       "      <th>3</th>\n",
       "      <td>13.82</td>\n",
       "      <td>68.53</td>\n",
       "      <td>26.47</td>\n",
       "      <td>8.35</td>\n",
       "      <td>81.56</td>\n",
       "    </tr>\n",
       "    <tr>\n",
       "      <th>4</th>\n",
       "      <td>12.93</td>\n",
       "      <td>73.87</td>\n",
       "      <td>26.20</td>\n",
       "      <td>7.68</td>\n",
       "      <td>89.10</td>\n",
       "    </tr>\n",
       "  </tbody>\n",
       "</table>\n",
       "</div>"
      ],
      "text/plain": [
       "   tem_in  hum_in  tem_coil  tem_out  hum_out\n",
       "0   22.39   55.46     27.46    17.72    62.94\n",
       "1   17.81   62.64     27.08    11.37    76.95\n",
       "2   15.13   66.70     26.93     9.79    79.46\n",
       "3   13.82   68.53     26.47     8.35    81.56\n",
       "4   12.93   73.87     26.20     7.68    89.10"
      ]
     },
     "execution_count": 13,
     "metadata": {},
     "output_type": "execute_result"
    }
   ],
   "source": [
    "df_L.head()"
   ]
  },
  {
   "cell_type": "code",
   "execution_count": 14,
   "metadata": {},
   "outputs": [],
   "source": [
    "eec = EasyEnsembleClassifier()\n",
    "eec.fit(x_train,y_train.ravel());"
   ]
  },
  {
   "cell_type": "markdown",
   "metadata": {},
   "source": [
    "# Predict"
   ]
  },
  {
   "cell_type": "code",
   "execution_count": 15,
   "metadata": {},
   "outputs": [],
   "source": [
    "df_L_24.drop('Year', axis='columns', inplace=True);\n",
    "df_L_24.drop('Month', axis='columns', inplace=True);\n",
    "df_L_24.drop('Day', axis='columns', inplace=True);\n",
    "df_L_24.drop('Hour', axis='columns', inplace=True);\n",
    "df_L_24.drop('Minute', axis='columns', inplace=True);\n",
    "\n",
    "df_L_48.drop('Year', axis='columns', inplace=True);\n",
    "df_L_48.drop('Month', axis='columns', inplace=True);\n",
    "df_L_48.drop('Day', axis='columns', inplace=True);\n",
    "df_L_48.drop('Hour', axis='columns', inplace=True);\n",
    "df_L_48.drop('Minute', axis='columns', inplace=True);"
   ]
  },
  {
   "cell_type": "code",
   "execution_count": 16,
   "metadata": {},
   "outputs": [],
   "source": [
    "P_24= eec.predict(df_L_24);\n",
    "PP_24 = eec.predict_proba(df_L_24);\n",
    "P_48= eec.predict(df_L_48);\n",
    "PP_48 = eec.predict_proba(df_L_48);\n",
    "PP_24 = np.delete(PP_24,(0), axis=1)\n",
    "PP_48 = np.delete(PP_48,(0), axis=1)"
   ]
  },
  {
   "cell_type": "markdown",
   "metadata": {},
   "source": [
    "# Save"
   ]
  },
  {
   "cell_type": "code",
   "execution_count": 17,
   "metadata": {},
   "outputs": [],
   "source": [
    "df_T = pd.read_csv('TestData\\Time_P2_L1_Data.csv');\n",
    "\n",
    "df_T.drop('tem_in', axis='columns', inplace=True);\n",
    "df_T.drop('tem_coil', axis='columns', inplace=True);\n",
    "df_T.drop('tem_out', axis='columns', inplace=True);\n",
    "df_T.drop('hum_in', axis='columns', inplace=True);\n",
    "df_T.drop('hum_out', axis='columns', inplace=True);"
   ]
  },
  {
   "cell_type": "code",
   "execution_count": 18,
   "metadata": {},
   "outputs": [
    {
     "data": {
      "text/html": [
       "<div>\n",
       "<style scoped>\n",
       "    .dataframe tbody tr th:only-of-type {\n",
       "        vertical-align: middle;\n",
       "    }\n",
       "\n",
       "    .dataframe tbody tr th {\n",
       "        vertical-align: top;\n",
       "    }\n",
       "\n",
       "    .dataframe thead th {\n",
       "        text-align: right;\n",
       "    }\n",
       "</style>\n",
       "<table border=\"1\" class=\"dataframe\">\n",
       "  <thead>\n",
       "    <tr style=\"text-align: right;\">\n",
       "      <th></th>\n",
       "      <th>Year</th>\n",
       "      <th>Month</th>\n",
       "      <th>Day</th>\n",
       "      <th>Hour</th>\n",
       "      <th>Minute</th>\n",
       "    </tr>\n",
       "  </thead>\n",
       "  <tbody>\n",
       "    <tr>\n",
       "      <th>0</th>\n",
       "      <td>2019</td>\n",
       "      <td>4</td>\n",
       "      <td>1</td>\n",
       "      <td>13</td>\n",
       "      <td>30</td>\n",
       "    </tr>\n",
       "    <tr>\n",
       "      <th>1</th>\n",
       "      <td>2019</td>\n",
       "      <td>4</td>\n",
       "      <td>1</td>\n",
       "      <td>20</td>\n",
       "      <td>30</td>\n",
       "    </tr>\n",
       "    <tr>\n",
       "      <th>2</th>\n",
       "      <td>2019</td>\n",
       "      <td>4</td>\n",
       "      <td>3</td>\n",
       "      <td>7</td>\n",
       "      <td>0</td>\n",
       "    </tr>\n",
       "    <tr>\n",
       "      <th>3</th>\n",
       "      <td>2019</td>\n",
       "      <td>4</td>\n",
       "      <td>3</td>\n",
       "      <td>8</td>\n",
       "      <td>30</td>\n",
       "    </tr>\n",
       "    <tr>\n",
       "      <th>4</th>\n",
       "      <td>2019</td>\n",
       "      <td>4</td>\n",
       "      <td>3</td>\n",
       "      <td>10</td>\n",
       "      <td>0</td>\n",
       "    </tr>\n",
       "  </tbody>\n",
       "</table>\n",
       "</div>"
      ],
      "text/plain": [
       "   Year  Month  Day  Hour  Minute\n",
       "0  2019      4    1    13      30\n",
       "1  2019      4    1    20      30\n",
       "2  2019      4    3     7       0\n",
       "3  2019      4    3     8      30\n",
       "4  2019      4    3    10       0"
      ]
     },
     "execution_count": 18,
     "metadata": {},
     "output_type": "execute_result"
    }
   ],
   "source": [
    "df_T.head()"
   ]
  },
  {
   "cell_type": "code",
   "execution_count": 19,
   "metadata": {},
   "outputs": [],
   "source": [
    "df_T['24H'] = P_24;\n",
    "df_T['24H_P'] = PP_24;\n",
    "df_T['48H'] = P_48;\n",
    "df_T['48H_P'] = PP_48;"
   ]
  },
  {
   "cell_type": "code",
   "execution_count": 20,
   "metadata": {},
   "outputs": [],
   "source": [
    "df_T.to_csv('Result_P2_L1.csv',index = False) "
   ]
  },
  {
   "cell_type": "code",
   "execution_count": null,
   "metadata": {},
   "outputs": [],
   "source": []
  }
 ],
 "metadata": {
  "kernelspec": {
   "display_name": "Python 3",
   "language": "python",
   "name": "python3"
  },
  "language_info": {
   "codemirror_mode": {
    "name": "ipython",
    "version": 3
   },
   "file_extension": ".py",
   "mimetype": "text/x-python",
   "name": "python",
   "nbconvert_exporter": "python",
   "pygments_lexer": "ipython3",
   "version": "3.7.6"
  }
 },
 "nbformat": 4,
 "nbformat_minor": 4
}
